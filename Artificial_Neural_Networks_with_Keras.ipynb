{
  "nbformat": 4,
  "nbformat_minor": 0,
  "metadata": {
    "colab": {
      "name": "Artificial Neural Networks with Keras.ipynb",
      "provenance": [],
      "collapsed_sections": [],
      "authorship_tag": "ABX9TyOZ1uRk1B9E7RvYyXWLahlu",
      "include_colab_link": true
    },
    "kernelspec": {
      "name": "python3",
      "display_name": "Python 3"
    },
    "accelerator": "GPU"
  },
  "cells": [
    {
      "cell_type": "markdown",
      "metadata": {
        "id": "view-in-github",
        "colab_type": "text"
      },
      "source": [
        "<a href=\"https://colab.research.google.com/github/youssef-snoussi/DL-notebook/blob/main/Artificial_Neural_Networks_with_Keras.ipynb\" target=\"_parent\"><img src=\"https://colab.research.google.com/assets/colab-badge.svg\" alt=\"Open In Colab\"/></a>"
      ]
    },
    {
      "cell_type": "code",
      "metadata": {
        "id": "accMUi6Wlhe_"
      },
      "source": [
        "import tensorflow as tf\n",
        "\n",
        "# Common imports\n",
        "import numpy as np\n",
        "import os\n",
        "\n",
        "# to make this notebook's output stable across runs\n",
        "np.random.seed(42)\n",
        "\n",
        "# To plot pretty figures\n",
        "%matplotlib inline\n",
        "import matplotlib as mpl\n",
        "import matplotlib.pyplot as plt\n",
        "mpl.rc('axes', labelsize=14)\n",
        "mpl.rc('xtick', labelsize=12)\n",
        "mpl.rc('ytick', labelsize=12)\n",
        "\n",
        "# Ignore useless warnings (see SciPy issue #5998)\n",
        "import warnings\n",
        "warnings.filterwarnings(action=\"ignore\", message=\"^internal gelsd\")"
      ],
      "execution_count": 3,
      "outputs": []
    },
    {
      "cell_type": "code",
      "metadata": {
        "id": "olM80jnSWXns"
      },
      "source": [
        "import tensorflow as tf\n",
        "from tensorflow import keras"
      ],
      "execution_count": 4,
      "outputs": []
    },
    {
      "cell_type": "code",
      "metadata": {
        "colab": {
          "base_uri": "https://localhost:8080/"
        },
        "id": "oc9fA0q_WmCh",
        "outputId": "9c6a9d31-2982-4a3e-8ee9-a1562ede15af"
      },
      "source": [
        "fashion_mnist = keras.datasets.fashion_mnist\n",
        "(X_train_full, y_train_full), (X_test, y_test) = fashion_mnist.load_data()"
      ],
      "execution_count": 5,
      "outputs": [
        {
          "output_type": "stream",
          "text": [
            "Downloading data from https://storage.googleapis.com/tensorflow/tf-keras-datasets/train-labels-idx1-ubyte.gz\n",
            "32768/29515 [=================================] - 0s 0us/step\n",
            "Downloading data from https://storage.googleapis.com/tensorflow/tf-keras-datasets/train-images-idx3-ubyte.gz\n",
            "26427392/26421880 [==============================] - 0s 0us/step\n",
            "Downloading data from https://storage.googleapis.com/tensorflow/tf-keras-datasets/t10k-labels-idx1-ubyte.gz\n",
            "8192/5148 [===============================================] - 0s 0us/step\n",
            "Downloading data from https://storage.googleapis.com/tensorflow/tf-keras-datasets/t10k-images-idx3-ubyte.gz\n",
            "4423680/4422102 [==============================] - 0s 0us/step\n"
          ],
          "name": "stdout"
        }
      ]
    },
    {
      "cell_type": "code",
      "metadata": {
        "colab": {
          "base_uri": "https://localhost:8080/"
        },
        "id": "W-ntENEjWrFF",
        "outputId": "5a56d3cd-897a-4810-e443-046117fcc564"
      },
      "source": [
        "X_train_full.shape"
      ],
      "execution_count": 6,
      "outputs": [
        {
          "output_type": "execute_result",
          "data": {
            "text/plain": [
              "(60000, 28, 28)"
            ]
          },
          "metadata": {
            "tags": []
          },
          "execution_count": 6
        }
      ]
    },
    {
      "cell_type": "code",
      "metadata": {
        "colab": {
          "base_uri": "https://localhost:8080/"
        },
        "id": "5Se0ncp0Wwk5",
        "outputId": "06e056b7-b581-4949-d799-6363a762c09e"
      },
      "source": [
        "X_train_full.dtype"
      ],
      "execution_count": 7,
      "outputs": [
        {
          "output_type": "execute_result",
          "data": {
            "text/plain": [
              "dtype('uint8')"
            ]
          },
          "metadata": {
            "tags": []
          },
          "execution_count": 7
        }
      ]
    },
    {
      "cell_type": "code",
      "metadata": {
        "id": "ov_tkz78Wz9c"
      },
      "source": [
        "\n",
        "X_valid, X_train = X_train_full[:5000] / 255., X_train_full[5000:] / 255.\n",
        "y_valid, y_train = y_train_full[:5000], y_train_full[5000:]\n",
        "X_test = X_test / 255"
      ],
      "execution_count": 8,
      "outputs": []
    },
    {
      "cell_type": "code",
      "metadata": {
        "colab": {
          "base_uri": "https://localhost:8080/",
          "height": 247
        },
        "id": "MArnuw84W4dy",
        "outputId": "eb71b1a3-3efc-4a52-840c-9a4bee9dad0f"
      },
      "source": [
        "plt.imshow(X_train[0], cmap=\"binary\")\n",
        "plt.axis('off')\n",
        "plt.show()"
      ],
      "execution_count": 9,
      "outputs": [
        {
          "output_type": "display_data",
          "data": {
            "image/png": "[encoded data removed]",
            "text/plain": [
              "<Figure size 432x288 with 1 Axes>"
            ]
          },
          "metadata": {
            "tags": [],
            "needs_background": "light"
          }
        }
      ]
    },
    {
      "cell_type": "code",
      "metadata": {
        "colab": {
          "base_uri": "https://localhost:8080/"
        },
        "id": "_C9iBjDXW-FA",
        "outputId": "7897a564-6502-4356-d11f-16ba97a2040c"
      },
      "source": [
        "y_train"
      ],
      "execution_count": 10,
      "outputs": [
        {
          "output_type": "execute_result",
          "data": {
            "text/plain": [
              "array([4, 0, 7, ..., 3, 0, 5], dtype=uint8)"
            ]
          },
          "metadata": {
            "tags": []
          },
          "execution_count": 10
        }
      ]
    },
    {
      "cell_type": "code",
      "metadata": {
        "id": "zqeG0fK5XFNi"
      },
      "source": [
        "class_names = [\"T-shirt/top\", \"Trouser\", \"Pullover\", \"Dress\", \"Coat\",\n",
        "               \"Sandal\", \"Shirt\", \"Sneaker\", \"Bag\", \"Ankle boot\"]"
      ],
      "execution_count": 11,
      "outputs": []
    },
    {
      "cell_type": "code",
      "metadata": {
        "colab": {
          "base_uri": "https://localhost:8080/",
          "height": 35
        },
        "id": "xA3wBbUWXNGg",
        "outputId": "e9e9017d-3821-4a88-e77e-cc4349b80991"
      },
      "source": [
        "class_names[y_train[4]]"
      ],
      "execution_count": 12,
      "outputs": [
        {
          "output_type": "execute_result",
          "data": {
            "application/vnd.google.colaboratory.intrinsic+json": {
              "type": "string"
            },
            "text/plain": [
              "'Ankle boot'"
            ]
          },
          "metadata": {
            "tags": []
          },
          "execution_count": 12
        }
      ]
    },
    {
      "cell_type": "code",
      "metadata": {
        "colab": {
          "base_uri": "https://localhost:8080/"
        },
        "id": "Oz4MJPijXPsL",
        "outputId": "2e91026a-604b-4aec-c28c-bc5696327615"
      },
      "source": [
        "X_valid.shape"
      ],
      "execution_count": 13,
      "outputs": [
        {
          "output_type": "execute_result",
          "data": {
            "text/plain": [
              "(5000, 28, 28)"
            ]
          },
          "metadata": {
            "tags": []
          },
          "execution_count": 13
        }
      ]
    },
    {
      "cell_type": "code",
      "metadata": {
        "colab": {
          "base_uri": "https://localhost:8080/"
        },
        "id": "xiaTwS_uXUD6",
        "outputId": "66b0985c-0d0c-4740-b9a4-fda594cdfd2b"
      },
      "source": [
        "X_test.shape"
      ],
      "execution_count": 14,
      "outputs": [
        {
          "output_type": "execute_result",
          "data": {
            "text/plain": [
              "(10000, 28, 28)"
            ]
          },
          "metadata": {
            "tags": []
          },
          "execution_count": 14
        }
      ]
    },
    {
      "cell_type": "code",
      "metadata": {
        "colab": {
          "base_uri": "https://localhost:8080/",
          "height": 307
        },
        "id": "QHhTx52vXZHT",
        "outputId": "d73fbe44-54ff-44d0-b396-1d94c9894883"
      },
      "source": [
        "n_rows = 4\n",
        "n_cols = 10\n",
        "plt.figure(figsize=(n_cols * 1.2, n_rows * 1.2))\n",
        "for row in range(n_rows):\n",
        "    for col in range(n_cols):\n",
        "        index = n_cols * row + col\n",
        "        plt.subplot(n_rows, n_cols, index + 1)\n",
        "        plt.imshow(X_train[index], cmap=\"binary\", interpolation=\"nearest\")\n",
        "        plt.axis('off')\n",
        "        plt.title(class_names[y_train[index]], fontsize=12)\n",
        "plt.subplots_adjust(wspace=0.2, hspace=0.5)\n",
        "plt.show()"
      ],
      "execution_count": 15,
      "outputs": [
        {
          "output_type": "display_data",
          "data": {
            "image/png": "[encoded data removed]",
            "text/plain": [
              "<Figure size 864x345.6 with 40 Axes>"
            ]
          },
          "metadata": {
            "tags": [],
            "needs_background": "light"
          }
        }
      ]
    },
    {
      "cell_type": "markdown",
      "metadata": {
        "id": "8b676AEgXf-W"
      },
      "source": [
        "Model construction\n"
      ]
    },
    {
      "cell_type": "code",
      "metadata": {
        "id": "a_EJqOQhXkWT"
      },
      "source": [
        "model = keras.models.Sequential([\n",
        "    keras.layers.Flatten(input_shape=[28, 28]),\n",
        "    keras.layers.Dense(300, activation=\"relu\"),\n",
        "    keras.layers.Dense(100, activation=\"relu\"),\n",
        "    keras.layers.Dense(10, activation=\"softmax\")\n",
        "])"
      ],
      "execution_count": 16,
      "outputs": []
    },
    {
      "cell_type": "code",
      "metadata": {
        "colab": {
          "base_uri": "https://localhost:8080/"
        },
        "id": "5Wz80fp8XoFS",
        "outputId": "96147e27-d7ab-4923-fc80-ba81f155b9aa"
      },
      "source": [
        "model.layers"
      ],
      "execution_count": 17,
      "outputs": [
        {
          "output_type": "execute_result",
          "data": {
            "text/plain": [
              "[<tensorflow.python.keras.layers.core.Flatten at 0x7fc9fbd5d7f0>,\n",
              " <tensorflow.python.keras.layers.core.Dense at 0x7fc9fbcd2f60>,\n",
              " <tensorflow.python.keras.layers.core.Dense at 0x7fc9fbcd23c8>,\n",
              " <tensorflow.python.keras.layers.core.Dense at 0x7fc9fbccff28>]"
            ]
          },
          "metadata": {
            "tags": []
          },
          "execution_count": 17
        }
      ]
    },
    {
      "cell_type": "code",
      "metadata": {
        "colab": {
          "base_uri": "https://localhost:8080/"
        },
        "id": "alPUUbGnX32L",
        "outputId": "aa0650d2-cd51-4982-e432-af477d6fbdb4"
      },
      "source": [
        "model.summary()"
      ],
      "execution_count": 18,
      "outputs": [
        {
          "output_type": "stream",
          "text": [
            "Model: \"sequential\"\n",
            "_________________________________________________________________\n",
            "Layer (type)                 Output Shape              Param #   \n",
            "=================================================================\n",
            "flatten (Flatten)            (None, 784)               0         \n",
            "_________________________________________________________________\n",
            "dense (Dense)                (None, 300)               235500    \n",
            "_________________________________________________________________\n",
            "dense_1 (Dense)              (None, 100)               30100     \n",
            "_________________________________________________________________\n",
            "dense_2 (Dense)              (None, 10)                1010      \n",
            "=================================================================\n",
            "Total params: 266,610\n",
            "Trainable params: 266,610\n",
            "Non-trainable params: 0\n",
            "_________________________________________________________________\n"
          ],
          "name": "stdout"
        }
      ]
    },
    {
      "cell_type": "code",
      "metadata": {
        "colab": {
          "base_uri": "https://localhost:8080/",
          "height": 35
        },
        "id": "EHkKzVB9X7_f",
        "outputId": "68cf3622-a988-479f-b559-b58c624a65ed"
      },
      "source": [
        "hidden1 = model.layers[1]\n",
        "hidden1.name"
      ],
      "execution_count": 19,
      "outputs": [
        {
          "output_type": "execute_result",
          "data": {
            "application/vnd.google.colaboratory.intrinsic+json": {
              "type": "string"
            },
            "text/plain": [
              "'dense'"
            ]
          },
          "metadata": {
            "tags": []
          },
          "execution_count": 19
        }
      ]
    },
    {
      "cell_type": "code",
      "metadata": {
        "colab": {
          "base_uri": "https://localhost:8080/"
        },
        "id": "_HyKq68_X-5j",
        "outputId": "83b1ce94-398b-4225-f9fb-a69b99fddb83"
      },
      "source": [
        "model.get_layer(hidden1.name) is hidden1"
      ],
      "execution_count": 20,
      "outputs": [
        {
          "output_type": "execute_result",
          "data": {
            "text/plain": [
              "True"
            ]
          },
          "metadata": {
            "tags": []
          },
          "execution_count": 20
        }
      ]
    },
    {
      "cell_type": "code",
      "metadata": {
        "colab": {
          "base_uri": "https://localhost:8080/"
        },
        "id": "SJKZniuFYBV9",
        "outputId": "f2cbfc62-f3a9-462c-e43d-ed99c902d1d7"
      },
      "source": [
        "weights, biases = hidden1.get_weights()\n",
        "weights"
      ],
      "execution_count": 21,
      "outputs": [
        {
          "output_type": "execute_result",
          "data": {
            "text/plain": [
              "array([[-0.02819265, -0.0732488 ,  0.06061815, ...,  0.02633305,\n",
              "         0.0675243 ,  0.05127157],\n",
              "       [-0.01814159, -0.03994504, -0.06980813, ...,  0.02020489,\n",
              "        -0.06521691,  0.05646549],\n",
              "       [ 0.01423521, -0.0284534 , -0.02758731, ...,  0.02223913,\n",
              "        -0.04811756,  0.03302684],\n",
              "       ...,\n",
              "       [-0.00037482,  0.00207852, -0.0464583 , ...,  0.04506601,\n",
              "        -0.06103198,  0.03424791],\n",
              "       [ 0.06526057, -0.0727558 , -0.01815489, ..., -0.05240218,\n",
              "         0.02025893,  0.06494208],\n",
              "       [-0.0533698 , -0.06932276,  0.05851164, ...,  0.07342437,\n",
              "         0.04813518,  0.0700545 ]], dtype=float32)"
            ]
          },
          "metadata": {
            "tags": []
          },
          "execution_count": 21
        }
      ]
    },
    {
      "cell_type": "code",
      "metadata": {
        "colab": {
          "base_uri": "https://localhost:8080/"
        },
        "id": "40fe65qqYDL_",
        "outputId": "72e2287f-22a1-417d-a39f-a31573c3ad0c"
      },
      "source": [
        "weights.shape"
      ],
      "execution_count": 22,
      "outputs": [
        {
          "output_type": "execute_result",
          "data": {
            "text/plain": [
              "(784, 300)"
            ]
          },
          "metadata": {
            "tags": []
          },
          "execution_count": 22
        }
      ]
    },
    {
      "cell_type": "code",
      "metadata": {
        "colab": {
          "base_uri": "https://localhost:8080/"
        },
        "id": "xEzf4n25YJOP",
        "outputId": "de5c5a0b-a6da-4433-bd2e-219e4b21bc94"
      },
      "source": [
        "biases"
      ],
      "execution_count": 23,
      "outputs": [
        {
          "output_type": "execute_result",
          "data": {
            "text/plain": [
              "array([0., 0., 0., 0., 0., 0., 0., 0., 0., 0., 0., 0., 0., 0., 0., 0., 0.,\n",
              "       0., 0., 0., 0., 0., 0., 0., 0., 0., 0., 0., 0., 0., 0., 0., 0., 0.,\n",
              "       0., 0., 0., 0., 0., 0., 0., 0., 0., 0., 0., 0., 0., 0., 0., 0., 0.,\n",
              "       0., 0., 0., 0., 0., 0., 0., 0., 0., 0., 0., 0., 0., 0., 0., 0., 0.,\n",
              "       0., 0., 0., 0., 0., 0., 0., 0., 0., 0., 0., 0., 0., 0., 0., 0., 0.,\n",
              "       0., 0., 0., 0., 0., 0., 0., 0., 0., 0., 0., 0., 0., 0., 0., 0., 0.,\n",
              "       0., 0., 0., 0., 0., 0., 0., 0., 0., 0., 0., 0., 0., 0., 0., 0., 0.,\n",
              "       0., 0., 0., 0., 0., 0., 0., 0., 0., 0., 0., 0., 0., 0., 0., 0., 0.,\n",
              "       0., 0., 0., 0., 0., 0., 0., 0., 0., 0., 0., 0., 0., 0., 0., 0., 0.,\n",
              "       0., 0., 0., 0., 0., 0., 0., 0., 0., 0., 0., 0., 0., 0., 0., 0., 0.,\n",
              "       0., 0., 0., 0., 0., 0., 0., 0., 0., 0., 0., 0., 0., 0., 0., 0., 0.,\n",
              "       0., 0., 0., 0., 0., 0., 0., 0., 0., 0., 0., 0., 0., 0., 0., 0., 0.,\n",
              "       0., 0., 0., 0., 0., 0., 0., 0., 0., 0., 0., 0., 0., 0., 0., 0., 0.,\n",
              "       0., 0., 0., 0., 0., 0., 0., 0., 0., 0., 0., 0., 0., 0., 0., 0., 0.,\n",
              "       0., 0., 0., 0., 0., 0., 0., 0., 0., 0., 0., 0., 0., 0., 0., 0., 0.,\n",
              "       0., 0., 0., 0., 0., 0., 0., 0., 0., 0., 0., 0., 0., 0., 0., 0., 0.,\n",
              "       0., 0., 0., 0., 0., 0., 0., 0., 0., 0., 0., 0., 0., 0., 0., 0., 0.,\n",
              "       0., 0., 0., 0., 0., 0., 0., 0., 0., 0., 0.], dtype=float32)"
            ]
          },
          "metadata": {
            "tags": []
          },
          "execution_count": 23
        }
      ]
    },
    {
      "cell_type": "code",
      "metadata": {
        "colab": {
          "base_uri": "https://localhost:8080/"
        },
        "id": "Gvv6fzqLYMH_",
        "outputId": "eb16af9f-cc83-40de-a4a0-cdb7744bc12d"
      },
      "source": [
        "biases.shape"
      ],
      "execution_count": 24,
      "outputs": [
        {
          "output_type": "execute_result",
          "data": {
            "text/plain": [
              "(300,)"
            ]
          },
          "metadata": {
            "tags": []
          },
          "execution_count": 24
        }
      ]
    },
    {
      "cell_type": "markdown",
      "metadata": {
        "id": "NFu6l0WsYP1b"
      },
      "source": [
        "Model Compiling\n"
      ]
    },
    {
      "cell_type": "code",
      "metadata": {
        "id": "MG4n6C9gYUxY"
      },
      "source": [
        "model.compile(loss=\"sparse_categorical_crossentropy\",\n",
        "              optimizer=\"sgd\",\n",
        "              metrics=[\"accuracy\"])"
      ],
      "execution_count": 25,
      "outputs": []
    },
    {
      "cell_type": "markdown",
      "metadata": {
        "id": "W3Aa2o1WYZRq"
      },
      "source": [
        "Model training"
      ]
    },
    {
      "cell_type": "code",
      "metadata": {
        "colab": {
          "base_uri": "https://localhost:8080/"
        },
        "id": "PvKIh0rQYYv7",
        "outputId": "bc2502d0-1d5a-408e-8f63-7f20937e7a41"
      },
      "source": [
        "history = model.fit(X_train, y_train, batch_size=32, epochs=30,\n",
        "                    validation_data=(X_valid, y_valid)) "
      ],
      "execution_count": 26,
      "outputs": [
        {
          "output_type": "stream",
          "text": [
            "Epoch 1/30\n",
            "1719/1719 [==============================] - 4s 2ms/step - loss: 0.7291 - accuracy: 0.7592 - val_loss: 0.5129 - val_accuracy: 0.8284\n",
            "Epoch 2/30\n",
            "1719/1719 [==============================] - 3s 2ms/step - loss: 0.4933 - accuracy: 0.8297 - val_loss: 0.4797 - val_accuracy: 0.8334\n",
            "Epoch 3/30\n",
            "1719/1719 [==============================] - 3s 2ms/step - loss: 0.4481 - accuracy: 0.8434 - val_loss: 0.4525 - val_accuracy: 0.8434\n",
            "Epoch 4/30\n",
            "1719/1719 [==============================] - 4s 2ms/step - loss: 0.4209 - accuracy: 0.8518 - val_loss: 0.4122 - val_accuracy: 0.8626\n",
            "Epoch 5/30\n",
            "1719/1719 [==============================] - 3s 2ms/step - loss: 0.4004 - accuracy: 0.8599 - val_loss: 0.3782 - val_accuracy: 0.8716\n",
            "Epoch 6/30\n",
            "1719/1719 [==============================] - 3s 2ms/step - loss: 0.3839 - accuracy: 0.8651 - val_loss: 0.3718 - val_accuracy: 0.8710\n",
            "Epoch 7/30\n",
            "1719/1719 [==============================] - 4s 2ms/step - loss: 0.3708 - accuracy: 0.8700 - val_loss: 0.3861 - val_accuracy: 0.8670\n",
            "Epoch 8/30\n",
            "1719/1719 [==============================] - 3s 2ms/step - loss: 0.3578 - accuracy: 0.8734 - val_loss: 0.3648 - val_accuracy: 0.8750\n",
            "Epoch 9/30\n",
            "1719/1719 [==============================] - 3s 2ms/step - loss: 0.3476 - accuracy: 0.8765 - val_loss: 0.3534 - val_accuracy: 0.8818\n",
            "Epoch 10/30\n",
            "1719/1719 [==============================] - 3s 2ms/step - loss: 0.3378 - accuracy: 0.8798 - val_loss: 0.3542 - val_accuracy: 0.8774\n",
            "Epoch 11/30\n",
            "1719/1719 [==============================] - 3s 2ms/step - loss: 0.3293 - accuracy: 0.8827 - val_loss: 0.3345 - val_accuracy: 0.8834\n",
            "Epoch 12/30\n",
            "1719/1719 [==============================] - 4s 2ms/step - loss: 0.3213 - accuracy: 0.8859 - val_loss: 0.3478 - val_accuracy: 0.8790\n",
            "Epoch 13/30\n",
            "1719/1719 [==============================] - 4s 2ms/step - loss: 0.3131 - accuracy: 0.8893 - val_loss: 0.3296 - val_accuracy: 0.8828\n",
            "Epoch 14/30\n",
            "1719/1719 [==============================] - 4s 2ms/step - loss: 0.3060 - accuracy: 0.8901 - val_loss: 0.3385 - val_accuracy: 0.8774\n",
            "Epoch 15/30\n",
            "1719/1719 [==============================] - 3s 2ms/step - loss: 0.3000 - accuracy: 0.8921 - val_loss: 0.3217 - val_accuracy: 0.8872\n",
            "Epoch 16/30\n",
            "1719/1719 [==============================] - 3s 2ms/step - loss: 0.2938 - accuracy: 0.8945 - val_loss: 0.3251 - val_accuracy: 0.8850\n",
            "Epoch 17/30\n",
            "1719/1719 [==============================] - 3s 2ms/step - loss: 0.2885 - accuracy: 0.8970 - val_loss: 0.3318 - val_accuracy: 0.8808\n",
            "Epoch 18/30\n",
            "1719/1719 [==============================] - 3s 2ms/step - loss: 0.2820 - accuracy: 0.8997 - val_loss: 0.3343 - val_accuracy: 0.8806\n",
            "Epoch 19/30\n",
            "1719/1719 [==============================] - 3s 2ms/step - loss: 0.2769 - accuracy: 0.8999 - val_loss: 0.3213 - val_accuracy: 0.8844\n",
            "Epoch 20/30\n",
            "1719/1719 [==============================] - 4s 2ms/step - loss: 0.2725 - accuracy: 0.9018 - val_loss: 0.3079 - val_accuracy: 0.8914\n",
            "Epoch 21/30\n",
            "1719/1719 [==============================] - 3s 2ms/step - loss: 0.2662 - accuracy: 0.9041 - val_loss: 0.3109 - val_accuracy: 0.8910\n",
            "Epoch 22/30\n",
            "1719/1719 [==============================] - 3s 2ms/step - loss: 0.2617 - accuracy: 0.9056 - val_loss: 0.3218 - val_accuracy: 0.8874\n",
            "Epoch 23/30\n",
            "1719/1719 [==============================] - 3s 2ms/step - loss: 0.2568 - accuracy: 0.9077 - val_loss: 0.2990 - val_accuracy: 0.8956\n",
            "Epoch 24/30\n",
            "1719/1719 [==============================] - 4s 2ms/step - loss: 0.2531 - accuracy: 0.9092 - val_loss: 0.2949 - val_accuracy: 0.8970\n",
            "Epoch 25/30\n",
            "1719/1719 [==============================] - 3s 2ms/step - loss: 0.2470 - accuracy: 0.9112 - val_loss: 0.3016 - val_accuracy: 0.8908\n",
            "Epoch 26/30\n",
            "1719/1719 [==============================] - 3s 2ms/step - loss: 0.2439 - accuracy: 0.9125 - val_loss: 0.2970 - val_accuracy: 0.8914\n",
            "Epoch 27/30\n",
            "1719/1719 [==============================] - 3s 2ms/step - loss: 0.2395 - accuracy: 0.9139 - val_loss: 0.2917 - val_accuracy: 0.8964\n",
            "Epoch 28/30\n",
            "1719/1719 [==============================] - 3s 2ms/step - loss: 0.2362 - accuracy: 0.9152 - val_loss: 0.2911 - val_accuracy: 0.8982\n",
            "Epoch 29/30\n",
            "1719/1719 [==============================] - 3s 2ms/step - loss: 0.2319 - accuracy: 0.9161 - val_loss: 0.3006 - val_accuracy: 0.8914\n",
            "Epoch 30/30\n",
            "1719/1719 [==============================] - 3s 2ms/step - loss: 0.2284 - accuracy: 0.9173 - val_loss: 0.2989 - val_accuracy: 0.8934\n"
          ],
          "name": "stdout"
        }
      ]
    },
    {
      "cell_type": "code",
      "metadata": {
        "colab": {
          "base_uri": "https://localhost:8080/"
        },
        "id": "H2ardb-PYhVf",
        "outputId": "95715c48-fece-4e1d-f3ce-b10650ffce23"
      },
      "source": [
        "history.params"
      ],
      "execution_count": 27,
      "outputs": [
        {
          "output_type": "execute_result",
          "data": {
            "text/plain": [
              "{'epochs': 30, 'steps': 1719, 'verbose': 1}"
            ]
          },
          "metadata": {
            "tags": []
          },
          "execution_count": 27
        }
      ]
    },
    {
      "cell_type": "code",
      "metadata": {
        "colab": {
          "base_uri": "https://localhost:8080/"
        },
        "id": "J5r50Po9Yjl2",
        "outputId": "701c1879-2735-4fc8-c304-76a203ea08ce"
      },
      "source": [
        "print(history.epoch)"
      ],
      "execution_count": 28,
      "outputs": [
        {
          "output_type": "stream",
          "text": [
            "[0, 1, 2, 3, 4, 5, 6, 7, 8, 9, 10, 11, 12, 13, 14, 15, 16, 17, 18, 19, 20, 21, 22, 23, 24, 25, 26, 27, 28, 29]\n"
          ],
          "name": "stdout"
        }
      ]
    },
    {
      "cell_type": "code",
      "metadata": {
        "colab": {
          "base_uri": "https://localhost:8080/"
        },
        "id": "nRARkb5LYoEJ",
        "outputId": "1c109203-4cf8-46eb-c304-5971347ca270"
      },
      "source": [
        "history.history.keys()"
      ],
      "execution_count": 29,
      "outputs": [
        {
          "output_type": "execute_result",
          "data": {
            "text/plain": [
              "dict_keys(['loss', 'accuracy', 'val_loss', 'val_accuracy'])"
            ]
          },
          "metadata": {
            "tags": []
          },
          "execution_count": 29
        }
      ]
    },
    {
      "cell_type": "markdown",
      "metadata": {
        "id": "7Vt7jsj9aWIy"
      },
      "source": [
        "Learning Curves"
      ]
    },
    {
      "cell_type": "code",
      "metadata": {
        "colab": {
          "base_uri": "https://localhost:8080/",
          "height": 327
        },
        "id": "5GPqiJvsaaAF",
        "outputId": "48537cb1-c593-4fc6-d30e-30795b6dad0e"
      },
      "source": [
        "import pandas as pd\n",
        "\n",
        "pd.DataFrame(history.history).plot(figsize=(8, 5))\n",
        "plt.grid(True)\n",
        "plt.gca().set_ylim(0, 1)\n",
        "plt.show()"
      ],
      "execution_count": 30,
      "outputs": [
        {
          "output_type": "display_data",
          "data": {
            "image/png": "[encoded data removed]",
            "text/plain": [
              "<Figure size 576x360 with 1 Axes>"
            ]
          },
          "metadata": {
            "tags": [],
            "needs_background": "light"
          }
        }
      ]
    },
    {
      "cell_type": "code",
      "metadata": {
        "colab": {
          "base_uri": "https://localhost:8080/"
        },
        "id": "f94iC_4Wad0M",
        "outputId": "7488f82e-c49a-4ebf-8ab0-f74422ecb167"
      },
      "source": [
        "model.evaluate(X_test, y_test)"
      ],
      "execution_count": 31,
      "outputs": [
        {
          "output_type": "stream",
          "text": [
            "313/313 [==============================] - 0s 2ms/step - loss: 0.3331 - accuracy: 0.8802\n"
          ],
          "name": "stdout"
        },
        {
          "output_type": "execute_result",
          "data": {
            "text/plain": [
              "[0.3330649733543396, 0.8802000284194946]"
            ]
          },
          "metadata": {
            "tags": []
          },
          "execution_count": 31
        }
      ]
    },
    {
      "cell_type": "code",
      "metadata": {
        "colab": {
          "base_uri": "https://localhost:8080/"
        },
        "id": "SyBqJVDsaiOO",
        "outputId": "7d7df9ee-a52e-4e4c-a40f-70dd630ba1cb"
      },
      "source": [
        "X_new = X_test[:3]\n",
        "y_proba = model.predict(X_new)\n",
        "y_proba.round(2)"
      ],
      "execution_count": 32,
      "outputs": [
        {
          "output_type": "execute_result",
          "data": {
            "text/plain": [
              "array([[0.  , 0.  , 0.  , 0.  , 0.  , 0.01, 0.  , 0.05, 0.  , 0.94],\n",
              "       [0.  , 0.  , 1.  , 0.  , 0.  , 0.  , 0.  , 0.  , 0.  , 0.  ],\n",
              "       [0.  , 1.  , 0.  , 0.  , 0.  , 0.  , 0.  , 0.  , 0.  , 0.  ]],\n",
              "      dtype=float32)"
            ]
          },
          "metadata": {
            "tags": []
          },
          "execution_count": 32
        }
      ]
    },
    {
      "cell_type": "code",
      "metadata": {
        "colab": {
          "base_uri": "https://localhost:8080/"
        },
        "id": "Pbm-dh3fak2U",
        "outputId": "1a9c47ca-9553-470f-db40-9c1c0bffab35"
      },
      "source": [
        "\n",
        "y_pred = model.predict_classes(X_new)\n",
        "y_pred"
      ],
      "execution_count": 33,
      "outputs": [
        {
          "output_type": "stream",
          "text": [
            "WARNING:tensorflow:From <ipython-input-33-f5511614c11c>:2: Sequential.predict_classes (from tensorflow.python.keras.engine.sequential) is deprecated and will be removed after 2021-01-01.\n",
            "Instructions for updating:\n",
            "Please use instead:* `np.argmax(model.predict(x), axis=-1)`,   if your model does multi-class classification   (e.g. if it uses a `softmax` last-layer activation).* `(model.predict(x) > 0.5).astype(\"int32\")`,   if your model does binary classification   (e.g. if it uses a `sigmoid` last-layer activation).\n"
          ],
          "name": "stdout"
        },
        {
          "output_type": "execute_result",
          "data": {
            "text/plain": [
              "array([9, 2, 1])"
            ]
          },
          "metadata": {
            "tags": []
          },
          "execution_count": 33
        }
      ]
    },
    {
      "cell_type": "code",
      "metadata": {
        "colab": {
          "base_uri": "https://localhost:8080/"
        },
        "id": "DYvSA_fPamrV",
        "outputId": "66b96fda-f44c-4183-fe4e-6a4297899f85"
      },
      "source": [
        "np.array(class_names)[y_pred]"
      ],
      "execution_count": 34,
      "outputs": [
        {
          "output_type": "execute_result",
          "data": {
            "text/plain": [
              "array(['Ankle boot', 'Pullover', 'Trouser'], dtype='<U11')"
            ]
          },
          "metadata": {
            "tags": []
          },
          "execution_count": 34
        }
      ]
    },
    {
      "cell_type": "code",
      "metadata": {
        "colab": {
          "base_uri": "https://localhost:8080/"
        },
        "id": "whVnGG6BapaL",
        "outputId": "6324827c-17c3-4c4c-f0fa-84ee9a54ca64"
      },
      "source": [
        "y_new = y_test[:3]\n",
        "y_new"
      ],
      "execution_count": 35,
      "outputs": [
        {
          "output_type": "execute_result",
          "data": {
            "text/plain": [
              "array([9, 2, 1], dtype=uint8)"
            ]
          },
          "metadata": {
            "tags": []
          },
          "execution_count": 35
        }
      ]
    },
    {
      "cell_type": "code",
      "metadata": {
        "colab": {
          "base_uri": "https://localhost:8080/",
          "height": 164
        },
        "id": "j05bMphHatTE",
        "outputId": "30bc5e28-0cc0-4f63-d46e-e06bcd17e152"
      },
      "source": [
        "plt.figure(figsize=(7.2, 2.4))\n",
        "for index, image in enumerate(X_new):\n",
        "    plt.subplot(1, 3, index + 1)\n",
        "    plt.imshow(image, cmap=\"binary\", interpolation=\"nearest\")\n",
        "    plt.axis('off')\n",
        "    plt.title(class_names[y_test[index]], fontsize=12)\n",
        "plt.subplots_adjust(wspace=0.2, hspace=0.5)\n",
        "plt.show()"
      ],
      "execution_count": 36,
      "outputs": [
        {
          "output_type": "display_data",
          "data": {
            "image/png": "[encoded data removed]",
            "text/plain": [
              "<Figure size 518.4x172.8 with 3 Axes>"
            ]
          },
          "metadata": {
            "tags": [],
            "needs_background": "light"
          }
        }
      ]
    },
    {
      "cell_type": "markdown",
      "metadata": {
        "id": "4R4v_d20awzg"
      },
      "source": [
        "**Exercice**"
      ]
    },
    {
      "cell_type": "markdown",
      "metadata": {
        "id": "8RDaQRkUa_EB"
      },
      "source": [
        "Plot learning cuves when using different optimizers"
      ]
    },
    {
      "cell_type": "code",
      "metadata": {
        "id": "OwY8FVTTbEGx"
      },
      "source": [
        "\n",
        "#optimizers:RMSprop\n",
        "model.compile(loss=\"sparse_categorical_crossentropy\",\n",
        "              optimizer=\"RMSprop\",\n",
        "              metrics=[\"accuracy\"])"
      ],
      "execution_count": 37,
      "outputs": []
    },
    {
      "cell_type": "code",
      "metadata": {
        "colab": {
          "base_uri": "https://localhost:8080/"
        },
        "id": "fU0_0HMebyO4",
        "outputId": "acc732e5-3dce-4e43-db97-94613ee992a6"
      },
      "source": [
        "osgd=model.evaluate(X_test, y_test)"
      ],
      "execution_count": 38,
      "outputs": [
        {
          "output_type": "stream",
          "text": [
            "313/313 [==============================] - 0s 2ms/step - loss: 0.3331 - accuracy: 0.8802\n"
          ],
          "name": "stdout"
        }
      ]
    },
    {
      "cell_type": "code",
      "metadata": {
        "colab": {
          "base_uri": "https://localhost:8080/"
        },
        "id": "Byruxb0Xb2EF",
        "outputId": "3ac904f9-8732-45b1-850d-6b66a0d01369"
      },
      "source": [
        "history1 = model.fit(X_train, y_train, batch_size=32, epochs=30,validation_data=(X_valid, y_valid))"
      ],
      "execution_count": 39,
      "outputs": [
        {
          "output_type": "stream",
          "text": [
            "Epoch 1/30\n",
            "1719/1719 [==============================] - 4s 2ms/step - loss: 0.4241 - accuracy: 0.8521 - val_loss: 0.4883 - val_accuracy: 0.8332\n",
            "Epoch 2/30\n",
            "1719/1719 [==============================] - 4s 2ms/step - loss: 0.3686 - accuracy: 0.8696 - val_loss: 0.3799 - val_accuracy: 0.8762\n",
            "Epoch 3/30\n",
            "1719/1719 [==============================] - 4s 2ms/step - loss: 0.3546 - accuracy: 0.8770 - val_loss: 0.3769 - val_accuracy: 0.8760\n",
            "Epoch 4/30\n",
            "1719/1719 [==============================] - 4s 2ms/step - loss: 0.3455 - accuracy: 0.8818 - val_loss: 0.3904 - val_accuracy: 0.8818\n",
            "Epoch 5/30\n",
            "1719/1719 [==============================] - 4s 2ms/step - loss: 0.3326 - accuracy: 0.8852 - val_loss: 0.4476 - val_accuracy: 0.8770\n",
            "Epoch 6/30\n",
            "1719/1719 [==============================] - 4s 2ms/step - loss: 0.3280 - accuracy: 0.8888 - val_loss: 0.4376 - val_accuracy: 0.8770\n",
            "Epoch 7/30\n",
            "1719/1719 [==============================] - 4s 2ms/step - loss: 0.3241 - accuracy: 0.8921 - val_loss: 0.4369 - val_accuracy: 0.8802\n",
            "Epoch 8/30\n",
            "1719/1719 [==============================] - 4s 2ms/step - loss: 0.3174 - accuracy: 0.8949 - val_loss: 0.5821 - val_accuracy: 0.8712\n",
            "Epoch 9/30\n",
            "1719/1719 [==============================] - 4s 3ms/step - loss: 0.3178 - accuracy: 0.8942 - val_loss: 0.4652 - val_accuracy: 0.8852\n",
            "Epoch 10/30\n",
            "1719/1719 [==============================] - 4s 2ms/step - loss: 0.3114 - accuracy: 0.8979 - val_loss: 0.4539 - val_accuracy: 0.8838\n",
            "Epoch 11/30\n",
            "1719/1719 [==============================] - 4s 3ms/step - loss: 0.3101 - accuracy: 0.8986 - val_loss: 0.5190 - val_accuracy: 0.8816\n",
            "Epoch 12/30\n",
            "1719/1719 [==============================] - 4s 2ms/step - loss: 0.3055 - accuracy: 0.9003 - val_loss: 0.5664 - val_accuracy: 0.8884\n",
            "Epoch 13/30\n",
            "1719/1719 [==============================] - 4s 2ms/step - loss: 0.3009 - accuracy: 0.9011 - val_loss: 0.5620 - val_accuracy: 0.8820\n",
            "Epoch 14/30\n",
            "1719/1719 [==============================] - 4s 2ms/step - loss: 0.3046 - accuracy: 0.9025 - val_loss: 0.5371 - val_accuracy: 0.8858\n",
            "Epoch 15/30\n",
            "1719/1719 [==============================] - 4s 2ms/step - loss: 0.2981 - accuracy: 0.9033 - val_loss: 0.6505 - val_accuracy: 0.8824\n",
            "Epoch 16/30\n",
            "1719/1719 [==============================] - 4s 2ms/step - loss: 0.2992 - accuracy: 0.9038 - val_loss: 0.6962 - val_accuracy: 0.8852\n",
            "Epoch 17/30\n",
            "1719/1719 [==============================] - 4s 3ms/step - loss: 0.2946 - accuracy: 0.9065 - val_loss: 0.6259 - val_accuracy: 0.8870\n",
            "Epoch 18/30\n",
            "1719/1719 [==============================] - 4s 2ms/step - loss: 0.2906 - accuracy: 0.9079 - val_loss: 0.5907 - val_accuracy: 0.8954\n",
            "Epoch 19/30\n",
            "1719/1719 [==============================] - 4s 2ms/step - loss: 0.2865 - accuracy: 0.9073 - val_loss: 0.6300 - val_accuracy: 0.8818\n",
            "Epoch 20/30\n",
            "1719/1719 [==============================] - 4s 2ms/step - loss: 0.2849 - accuracy: 0.9097 - val_loss: 0.7686 - val_accuracy: 0.8678\n",
            "Epoch 21/30\n",
            "1719/1719 [==============================] - 5s 3ms/step - loss: 0.2849 - accuracy: 0.9108 - val_loss: 0.6609 - val_accuracy: 0.8916\n",
            "Epoch 22/30\n",
            "1719/1719 [==============================] - 4s 3ms/step - loss: 0.2871 - accuracy: 0.9114 - val_loss: 0.7218 - val_accuracy: 0.8834\n",
            "Epoch 23/30\n",
            "1719/1719 [==============================] - 4s 2ms/step - loss: 0.2822 - accuracy: 0.9131 - val_loss: 0.6963 - val_accuracy: 0.8858\n",
            "Epoch 24/30\n",
            "1719/1719 [==============================] - 4s 2ms/step - loss: 0.2839 - accuracy: 0.9127 - val_loss: 0.7670 - val_accuracy: 0.8864\n",
            "Epoch 25/30\n",
            "1719/1719 [==============================] - 4s 2ms/step - loss: 0.2753 - accuracy: 0.9153 - val_loss: 0.8390 - val_accuracy: 0.8786\n",
            "Epoch 26/30\n",
            "1719/1719 [==============================] - 4s 3ms/step - loss: 0.2757 - accuracy: 0.9160 - val_loss: 0.7756 - val_accuracy: 0.8910\n",
            "Epoch 27/30\n",
            "1719/1719 [==============================] - 4s 3ms/step - loss: 0.2686 - accuracy: 0.9162 - val_loss: 1.1452 - val_accuracy: 0.8804\n",
            "Epoch 28/30\n",
            "1719/1719 [==============================] - 5s 3ms/step - loss: 0.2780 - accuracy: 0.9165 - val_loss: 0.7828 - val_accuracy: 0.8864\n",
            "Epoch 29/30\n",
            "1719/1719 [==============================] - 4s 3ms/step - loss: 0.2661 - accuracy: 0.9181 - val_loss: 0.7699 - val_accuracy: 0.8908\n",
            "Epoch 30/30\n",
            "1719/1719 [==============================] - 4s 2ms/step - loss: 0.2656 - accuracy: 0.9183 - val_loss: 0.8210 - val_accuracy: 0.8862\n"
          ],
          "name": "stdout"
        }
      ]
    },
    {
      "cell_type": "code",
      "metadata": {
        "colab": {
          "base_uri": "https://localhost:8080/"
        },
        "id": "9Gd8KiThdmW-",
        "outputId": "ced9c39d-8a05-4613-810d-8d3f2c87d5ae"
      },
      "source": [
        "history1.params"
      ],
      "execution_count": 40,
      "outputs": [
        {
          "output_type": "execute_result",
          "data": {
            "text/plain": [
              "{'epochs': 30, 'steps': 1719, 'verbose': 1}"
            ]
          },
          "metadata": {
            "tags": []
          },
          "execution_count": 40
        }
      ]
    },
    {
      "cell_type": "code",
      "metadata": {
        "colab": {
          "base_uri": "https://localhost:8080/",
          "height": 338
        },
        "id": "yTy3gqaCdqky",
        "outputId": "73a68bb2-a5af-4874-a6c0-43dc488ec6be"
      },
      "source": [
        "pd.DataFrame(history1.history).plot(figsize=(8, 5),title=('RMSprop'))\n",
        "plt.grid(True)\n",
        "plt.gca().set_ylim(0, 1)\n",
        "plt.show()"
      ],
      "execution_count": 41,
      "outputs": [
        {
          "output_type": "display_data",
          "data": {
            "image/png": "[encoded data removed]",
            "text/plain": [
              "<Figure size 576x360 with 1 Axes>"
            ]
          },
          "metadata": {
            "tags": [],
            "needs_background": "light"
          }
        }
      ]
    },
    {
      "cell_type": "code",
      "metadata": {
        "colab": {
          "base_uri": "https://localhost:8080/"
        },
        "id": "d9uL6UQ1dyxY",
        "outputId": "b09e4a01-2a4b-49ee-8672-9cbffc28f9fc"
      },
      "source": [
        "RMSprop = model.evaluate(X_test, y_test)"
      ],
      "execution_count": 42,
      "outputs": [
        {
          "output_type": "stream",
          "text": [
            "313/313 [==============================] - 0s 2ms/step - loss: 0.7815 - accuracy: 0.8754\n"
          ],
          "name": "stdout"
        }
      ]
    },
    {
      "cell_type": "code",
      "metadata": {
        "id": "dVlISMrXd3-L"
      },
      "source": [
        "#optimizers:Nadam\n",
        "model.compile(loss=\"sparse_categorical_crossentropy\",\n",
        "              optimizer=\"Nadam\",\n",
        "              metrics=[\"accuracy\"])"
      ],
      "execution_count": 43,
      "outputs": []
    },
    {
      "cell_type": "code",
      "metadata": {
        "colab": {
          "base_uri": "https://localhost:8080/"
        },
        "id": "EKJHKi-Nd6UZ",
        "outputId": "6063fbf3-45b9-446e-f7b3-5de0467765b7"
      },
      "source": [
        "history2 = model.fit(X_train, y_train, batch_size=32, epochs=30,\n",
        "                    validation_data=(X_valid, y_valid))"
      ],
      "execution_count": 44,
      "outputs": [
        {
          "output_type": "stream",
          "text": [
            "Epoch 1/30\n",
            "1719/1719 [==============================] - 5s 3ms/step - loss: 0.2870 - accuracy: 0.9110 - val_loss: 0.5159 - val_accuracy: 0.8882\n",
            "Epoch 2/30\n",
            "1719/1719 [==============================] - 5s 3ms/step - loss: 0.2489 - accuracy: 0.9155 - val_loss: 0.5908 - val_accuracy: 0.8874\n",
            "Epoch 3/30\n",
            "1719/1719 [==============================] - 5s 3ms/step - loss: 0.2335 - accuracy: 0.9187 - val_loss: 0.4931 - val_accuracy: 0.8934\n",
            "Epoch 4/30\n",
            "1719/1719 [==============================] - 5s 3ms/step - loss: 0.2302 - accuracy: 0.9191 - val_loss: 0.4610 - val_accuracy: 0.8922\n",
            "Epoch 5/30\n",
            "1719/1719 [==============================] - 5s 3ms/step - loss: 0.2127 - accuracy: 0.9236 - val_loss: 0.4914 - val_accuracy: 0.8938\n",
            "Epoch 6/30\n",
            "1719/1719 [==============================] - 5s 3ms/step - loss: 0.2142 - accuracy: 0.9238 - val_loss: 0.4514 - val_accuracy: 0.8938\n",
            "Epoch 7/30\n",
            "1719/1719 [==============================] - 5s 3ms/step - loss: 0.2095 - accuracy: 0.9245 - val_loss: 0.4494 - val_accuracy: 0.8898\n",
            "Epoch 8/30\n",
            "1719/1719 [==============================] - 5s 3ms/step - loss: 0.1984 - accuracy: 0.9275 - val_loss: 0.4145 - val_accuracy: 0.8984\n",
            "Epoch 9/30\n",
            "1719/1719 [==============================] - 5s 3ms/step - loss: 0.1958 - accuracy: 0.9291 - val_loss: 0.4292 - val_accuracy: 0.8932\n",
            "Epoch 10/30\n",
            "1719/1719 [==============================] - 5s 3ms/step - loss: 0.1906 - accuracy: 0.9311 - val_loss: 0.4352 - val_accuracy: 0.8934\n",
            "Epoch 11/30\n",
            "1719/1719 [==============================] - 5s 3ms/step - loss: 0.1840 - accuracy: 0.9327 - val_loss: 0.4597 - val_accuracy: 0.8962\n",
            "Epoch 12/30\n",
            "1719/1719 [==============================] - 5s 3ms/step - loss: 0.1867 - accuracy: 0.9313 - val_loss: 0.4733 - val_accuracy: 0.8962\n",
            "Epoch 13/30\n",
            "1719/1719 [==============================] - 5s 3ms/step - loss: 0.1778 - accuracy: 0.9349 - val_loss: 0.4399 - val_accuracy: 0.9010\n",
            "Epoch 14/30\n",
            "1719/1719 [==============================] - 5s 3ms/step - loss: 0.1703 - accuracy: 0.9371 - val_loss: 0.4783 - val_accuracy: 0.8982\n",
            "Epoch 15/30\n",
            "1719/1719 [==============================] - 5s 3ms/step - loss: 0.1680 - accuracy: 0.9387 - val_loss: 0.5805 - val_accuracy: 0.8884\n",
            "Epoch 16/30\n",
            "1719/1719 [==============================] - 5s 3ms/step - loss: 0.1689 - accuracy: 0.9390 - val_loss: 0.5023 - val_accuracy: 0.8964\n",
            "Epoch 17/30\n",
            "1719/1719 [==============================] - 5s 3ms/step - loss: 0.1586 - accuracy: 0.9417 - val_loss: 0.4861 - val_accuracy: 0.8958\n",
            "Epoch 18/30\n",
            "1719/1719 [==============================] - 5s 3ms/step - loss: 0.1562 - accuracy: 0.9416 - val_loss: 0.5447 - val_accuracy: 0.8866\n",
            "Epoch 19/30\n",
            "1719/1719 [==============================] - 5s 3ms/step - loss: 0.1555 - accuracy: 0.9429 - val_loss: 0.5847 - val_accuracy: 0.8918\n",
            "Epoch 20/30\n",
            "1719/1719 [==============================] - 5s 3ms/step - loss: 0.1509 - accuracy: 0.9447 - val_loss: 0.5036 - val_accuracy: 0.8978\n",
            "Epoch 21/30\n",
            "1719/1719 [==============================] - 5s 3ms/step - loss: 0.1524 - accuracy: 0.9441 - val_loss: 0.4926 - val_accuracy: 0.8964\n",
            "Epoch 22/30\n",
            "1719/1719 [==============================] - 5s 3ms/step - loss: 0.1464 - accuracy: 0.9461 - val_loss: 0.5313 - val_accuracy: 0.8952\n",
            "Epoch 23/30\n",
            "1719/1719 [==============================] - 5s 3ms/step - loss: 0.1424 - accuracy: 0.9466 - val_loss: 0.5348 - val_accuracy: 0.8918\n",
            "Epoch 24/30\n",
            "1719/1719 [==============================] - 5s 3ms/step - loss: 0.1360 - accuracy: 0.9485 - val_loss: 0.5356 - val_accuracy: 0.8984\n",
            "Epoch 25/30\n",
            "1719/1719 [==============================] - 5s 3ms/step - loss: 0.1404 - accuracy: 0.9478 - val_loss: 0.5624 - val_accuracy: 0.8982\n",
            "Epoch 26/30\n",
            "1719/1719 [==============================] - 5s 3ms/step - loss: 0.1372 - accuracy: 0.9485 - val_loss: 0.5696 - val_accuracy: 0.8952\n",
            "Epoch 27/30\n",
            "1719/1719 [==============================] - 5s 3ms/step - loss: 0.1327 - accuracy: 0.9506 - val_loss: 0.5381 - val_accuracy: 0.8966\n",
            "Epoch 28/30\n",
            "1719/1719 [==============================] - 5s 3ms/step - loss: 0.1331 - accuracy: 0.9509 - val_loss: 0.5497 - val_accuracy: 0.9022\n",
            "Epoch 29/30\n",
            "1719/1719 [==============================] - 5s 3ms/step - loss: 0.1298 - accuracy: 0.9525 - val_loss: 0.5439 - val_accuracy: 0.8822\n",
            "Epoch 30/30\n",
            "1719/1719 [==============================] - 6s 3ms/step - loss: 0.1301 - accuracy: 0.9531 - val_loss: 0.5837 - val_accuracy: 0.8980\n"
          ],
          "name": "stdout"
        }
      ]
    },
    {
      "cell_type": "code",
      "metadata": {
        "colab": {
          "base_uri": "https://localhost:8080/"
        },
        "id": "81n_trE7d9-F",
        "outputId": "e56b73e8-6720-4d9e-ae43-2d4d977c2dca"
      },
      "source": [
        "history2.params"
      ],
      "execution_count": 45,
      "outputs": [
        {
          "output_type": "execute_result",
          "data": {
            "text/plain": [
              "{'epochs': 30, 'steps': 1719, 'verbose': 1}"
            ]
          },
          "metadata": {
            "tags": []
          },
          "execution_count": 45
        }
      ]
    },
    {
      "cell_type": "code",
      "metadata": {
        "colab": {
          "base_uri": "https://localhost:8080/",
          "height": 338
        },
        "id": "MESP_NKJeDVV",
        "outputId": "6ffe5c1b-b0db-463a-d278-394ec2215375"
      },
      "source": [
        "pd.DataFrame(history2.history).plot(figsize=(8, 5),title=('Nadam'))\n",
        "plt.grid(True)\n",
        "plt.gca().set_ylim(0, 1)\n",
        "plt.show()"
      ],
      "execution_count": 46,
      "outputs": [
        {
          "output_type": "display_data",
          "data": {
            "image/png": "[encoded data removed]",
            "text/plain": [
              "<Figure size 576x360 with 1 Axes>"
            ]
          },
          "metadata": {
            "tags": [],
            "needs_background": "light"
          }
        }
      ]
    },
    {
      "cell_type": "code",
      "metadata": {
        "colab": {
          "base_uri": "https://localhost:8080/"
        },
        "id": "bV4GJLhyeOTG",
        "outputId": "abbba03b-6447-45aa-e711-67f1bf0bcf2a"
      },
      "source": [
        "Nadam = model.evaluate(X_test, y_test)\n",
        "Nadam"
      ],
      "execution_count": 47,
      "outputs": [
        {
          "output_type": "stream",
          "text": [
            "313/313 [==============================] - 1s 2ms/step - loss: 0.5896 - accuracy: 0.8925\n"
          ],
          "name": "stdout"
        },
        {
          "output_type": "execute_result",
          "data": {
            "text/plain": [
              "[0.5896480083465576, 0.8924999833106995]"
            ]
          },
          "metadata": {
            "tags": []
          },
          "execution_count": 47
        }
      ]
    },
    {
      "cell_type": "code",
      "metadata": {
        "colab": {
          "base_uri": "https://localhost:8080/",
          "height": 983
        },
        "id": "3YfFaLt4eRF7",
        "outputId": "bafc3a8d-dfba-4197-88e2-d2b323a6f036"
      },
      "source": [
        "pd.DataFrame(history.history).plot(figsize=(8, 5),title=('sgd'))\n",
        "pd.DataFrame(history1.history).plot(figsize=(8, 5),title=('RMSprop'))\n",
        "pd.DataFrame(history2.history).plot(figsize=(8, 5),title=('Nadam'))\n",
        "plt.grid(True)\n",
        "plt.gca().set_ylim(0, 1)\n",
        "plt.show()"
      ],
      "execution_count": 48,
      "outputs": [
        {
          "output_type": "display_data",
          "data": {
            "image/png": "[encoded data removed]",
            "text/plain": [
              "<Figure size 576x360 with 1 Axes>"
            ]
          },
          "metadata": {
            "tags": [],
            "needs_background": "light"
          }
        },
        {
          "output_type": "display_data",
          "data": {
            "image/png": "[encoded data removed]",
            "text/plain": [
              "<Figure size 576x360 with 1 Axes>"
            ]
          },
          "metadata": {
            "tags": [],
            "needs_background": "light"
          }
        },
        {
          "output_type": "display_data",
          "data": {
            "image/png": "[encoded data removed]",
            "text/plain": [
              "<Figure size 576x360 with 1 Axes>"
            ]
          },
          "metadata": {
            "tags": [],
            "needs_background": "light"
          }
        }
      ]
    },
    {
      "cell_type": "markdown",
      "metadata": {
        "id": "HsYqOquSfLr_"
      },
      "source": [
        "Plot learning curves for different batch sizes"
      ]
    },
    {
      "cell_type": "code",
      "metadata": {
        "id": "Ym7dWVjJfRM_"
      },
      "source": [
        "#batch size = 1\n",
        "model.compile(loss=\"sparse_categorical_crossentropy\",\n",
        "              optimizer=\"sgd\",\n",
        "              metrics=[\"accuracy\"])"
      ],
      "execution_count": 49,
      "outputs": []
    },
    {
      "cell_type": "code",
      "metadata": {
        "colab": {
          "base_uri": "https://localhost:8080/"
        },
        "id": "HLQonRKlfjZT",
        "outputId": "bd5f1d3a-afe9-473c-c17e-6f49296b461a"
      },
      "source": [
        "history4 = model.fit(X_train, y_train, batch_size=1, epochs=30,\n",
        "                    validation_data=(X_valid, y_valid))"
      ],
      "execution_count": 50,
      "outputs": [
        {
          "output_type": "stream",
          "text": [
            "Epoch 1/30\n",
            "55000/55000 [==============================] - 89s 2ms/step - loss: 0.8102 - accuracy: 0.7458 - val_loss: 0.6500 - val_accuracy: 0.8474\n",
            "Epoch 2/30\n",
            "55000/55000 [==============================] - 92s 2ms/step - loss: 0.3975 - accuracy: 0.8674 - val_loss: 0.6352 - val_accuracy: 0.8558\n",
            "Epoch 3/30\n",
            "55000/55000 [==============================] - 90s 2ms/step - loss: 0.3222 - accuracy: 0.8904 - val_loss: 0.5910 - val_accuracy: 0.8714\n",
            "Epoch 4/30\n",
            "55000/55000 [==============================] - 89s 2ms/step - loss: 0.2822 - accuracy: 0.9026 - val_loss: 0.6299 - val_accuracy: 0.8698\n",
            "Epoch 5/30\n",
            "55000/55000 [==============================] - 90s 2ms/step - loss: 0.2604 - accuracy: 0.9112 - val_loss: 0.5509 - val_accuracy: 0.8804\n",
            "Epoch 6/30\n",
            "55000/55000 [==============================] - 88s 2ms/step - loss: 0.2469 - accuracy: 0.9157 - val_loss: 0.6179 - val_accuracy: 0.8676\n",
            "Epoch 7/30\n",
            "55000/55000 [==============================] - 89s 2ms/step - loss: 0.2360 - accuracy: 0.9190 - val_loss: 0.5710 - val_accuracy: 0.8844\n",
            "Epoch 8/30\n",
            "55000/55000 [==============================] - 89s 2ms/step - loss: 0.2277 - accuracy: 0.9219 - val_loss: 0.5123 - val_accuracy: 0.8804\n",
            "Epoch 9/30\n",
            "55000/55000 [==============================] - 90s 2ms/step - loss: 0.2082 - accuracy: 0.9256 - val_loss: 0.6137 - val_accuracy: 0.8828\n",
            "Epoch 10/30\n",
            "55000/55000 [==============================] - 89s 2ms/step - loss: 0.2060 - accuracy: 0.9280 - val_loss: 0.6068 - val_accuracy: 0.8824\n",
            "Epoch 11/30\n",
            "55000/55000 [==============================] - 88s 2ms/step - loss: 0.2031 - accuracy: 0.9292 - val_loss: 0.5377 - val_accuracy: 0.8878\n",
            "Epoch 12/30\n",
            "55000/55000 [==============================] - 90s 2ms/step - loss: 0.1927 - accuracy: 0.9301 - val_loss: 0.6183 - val_accuracy: 0.8850\n",
            "Epoch 13/30\n",
            "55000/55000 [==============================] - 88s 2ms/step - loss: 0.1862 - accuracy: 0.9343 - val_loss: 0.6324 - val_accuracy: 0.8820\n",
            "Epoch 14/30\n",
            "55000/55000 [==============================] - 89s 2ms/step - loss: 0.1802 - accuracy: 0.9355 - val_loss: 0.6096 - val_accuracy: 0.8836\n",
            "Epoch 15/30\n",
            "55000/55000 [==============================] - 88s 2ms/step - loss: 0.1729 - accuracy: 0.9377 - val_loss: 0.6460 - val_accuracy: 0.8858\n",
            "Epoch 16/30\n",
            "55000/55000 [==============================] - 91s 2ms/step - loss: 0.1831 - accuracy: 0.9358 - val_loss: 0.5229 - val_accuracy: 0.8962\n",
            "Epoch 17/30\n",
            "55000/55000 [==============================] - 89s 2ms/step - loss: 0.1746 - accuracy: 0.9361 - val_loss: 0.5342 - val_accuracy: 0.8854\n",
            "Epoch 18/30\n",
            "55000/55000 [==============================] - 88s 2ms/step - loss: 0.1683 - accuracy: 0.9394 - val_loss: 0.6146 - val_accuracy: 0.8832\n",
            "Epoch 19/30\n",
            "55000/55000 [==============================] - 90s 2ms/step - loss: 0.1587 - accuracy: 0.9414 - val_loss: 0.6297 - val_accuracy: 0.8882\n",
            "Epoch 20/30\n",
            "55000/55000 [==============================] - 89s 2ms/step - loss: 0.1540 - accuracy: 0.9433 - val_loss: 0.5572 - val_accuracy: 0.8870\n",
            "Epoch 21/30\n",
            "55000/55000 [==============================] - 89s 2ms/step - loss: 0.1529 - accuracy: 0.9447 - val_loss: 0.7371 - val_accuracy: 0.8878\n",
            "Epoch 22/30\n",
            "55000/55000 [==============================] - 89s 2ms/step - loss: 0.1592 - accuracy: 0.9427 - val_loss: 0.6246 - val_accuracy: 0.8956\n",
            "Epoch 23/30\n",
            "55000/55000 [==============================] - 90s 2ms/step - loss: 0.1501 - accuracy: 0.9467 - val_loss: 0.6913 - val_accuracy: 0.8880\n",
            "Epoch 24/30\n",
            "55000/55000 [==============================] - 88s 2ms/step - loss: 0.1507 - accuracy: 0.9448 - val_loss: 0.6871 - val_accuracy: 0.8934\n",
            "Epoch 25/30\n",
            "55000/55000 [==============================] - 89s 2ms/step - loss: 0.1471 - accuracy: 0.9484 - val_loss: 0.6230 - val_accuracy: 0.8860\n",
            "Epoch 26/30\n",
            "55000/55000 [==============================] - 92s 2ms/step - loss: 0.1570 - accuracy: 0.9435 - val_loss: 0.6021 - val_accuracy: 0.8876\n",
            "Epoch 27/30\n",
            "55000/55000 [==============================] - 91s 2ms/step - loss: 0.1476 - accuracy: 0.9464 - val_loss: 0.6453 - val_accuracy: 0.8892\n",
            "Epoch 28/30\n",
            "55000/55000 [==============================] - 91s 2ms/step - loss: 0.1471 - accuracy: 0.9475 - val_loss: 0.6274 - val_accuracy: 0.8824\n",
            "Epoch 29/30\n",
            "55000/55000 [==============================] - 93s 2ms/step - loss: 0.1411 - accuracy: 0.9502 - val_loss: 0.6085 - val_accuracy: 0.8940\n",
            "Epoch 30/30\n",
            "55000/55000 [==============================] - 94s 2ms/step - loss: 0.1346 - accuracy: 0.9503 - val_loss: 0.6711 - val_accuracy: 0.8876\n"
          ],
          "name": "stdout"
        }
      ]
    },
    {
      "cell_type": "code",
      "metadata": {
        "colab": {
          "base_uri": "https://localhost:8080/"
        },
        "id": "jhvmT8GifrqZ",
        "outputId": "0264c23d-dca9-4f15-c67e-046eb159e1f8"
      },
      "source": [
        "BS1 = model.evaluate(X_test, y_test)\n",
        "BS1"
      ],
      "execution_count": 51,
      "outputs": [
        {
          "output_type": "stream",
          "text": [
            "313/313 [==============================] - 1s 2ms/step - loss: 0.7244 - accuracy: 0.8849\n"
          ],
          "name": "stdout"
        },
        {
          "output_type": "execute_result",
          "data": {
            "text/plain": [
              "[0.7244082689285278, 0.8848999738693237]"
            ]
          },
          "metadata": {
            "tags": []
          },
          "execution_count": 51
        }
      ]
    },
    {
      "cell_type": "code",
      "metadata": {
        "colab": {
          "base_uri": "https://localhost:8080/",
          "height": 327
        },
        "id": "4T8Knwdkfy33",
        "outputId": "6fdfb271-6a6b-416e-c894-31fd9c036664"
      },
      "source": [
        "pd.DataFrame(history4.history).plot(figsize=(8, 5))\n",
        "plt.grid(True)\n",
        "plt.gca().set_ylim(0, 1)\n",
        "plt.show()"
      ],
      "execution_count": 52,
      "outputs": [
        {
          "output_type": "display_data",
          "data": {
            "image/png": "[encoded data removed]",
            "text/plain": [
              "<Figure size 576x360 with 1 Axes>"
            ]
          },
          "metadata": {
            "tags": [],
            "needs_background": "light"
          }
        }
      ]
    },
    {
      "cell_type": "code",
      "metadata": {
        "colab": {
          "base_uri": "https://localhost:8080/"
        },
        "id": "9nrT4sCIf3Nn",
        "outputId": "0392b28b-df43-4c72-bfa9-6b1d45e919c8"
      },
      "source": [
        "#batch size = 10\n",
        "h3 = model.fit(X_train, y_train, batch_size=10, epochs=30,\n",
        "                    validation_data=(X_valid, y_valid))"
      ],
      "execution_count": 53,
      "outputs": [
        {
          "output_type": "stream",
          "text": [
            "Epoch 1/30\n",
            "5500/5500 [==============================] - 12s 2ms/step - loss: 0.0848 - accuracy: 0.9678 - val_loss: 0.6668 - val_accuracy: 0.8996\n",
            "Epoch 2/30\n",
            "5500/5500 [==============================] - 12s 2ms/step - loss: 0.0743 - accuracy: 0.9710 - val_loss: 0.6766 - val_accuracy: 0.8992\n",
            "Epoch 3/30\n",
            "5500/5500 [==============================] - 12s 2ms/step - loss: 0.0713 - accuracy: 0.9728 - val_loss: 0.6964 - val_accuracy: 0.8988\n",
            "Epoch 4/30\n",
            "5500/5500 [==============================] - 12s 2ms/step - loss: 0.0694 - accuracy: 0.9733 - val_loss: 0.7085 - val_accuracy: 0.8980\n",
            "Epoch 5/30\n",
            "5500/5500 [==============================] - 12s 2ms/step - loss: 0.0680 - accuracy: 0.9739 - val_loss: 0.7232 - val_accuracy: 0.9008\n",
            "Epoch 6/30\n",
            "5500/5500 [==============================] - 11s 2ms/step - loss: 0.0666 - accuracy: 0.9740 - val_loss: 0.7406 - val_accuracy: 0.9000\n",
            "Epoch 7/30\n",
            "5500/5500 [==============================] - 12s 2ms/step - loss: 0.0652 - accuracy: 0.9748 - val_loss: 0.7463 - val_accuracy: 0.8980\n",
            "Epoch 8/30\n",
            "5500/5500 [==============================] - 12s 2ms/step - loss: 0.0642 - accuracy: 0.9755 - val_loss: 0.7640 - val_accuracy: 0.8978\n",
            "Epoch 9/30\n",
            "5500/5500 [==============================] - 11s 2ms/step - loss: 0.0630 - accuracy: 0.9755 - val_loss: 0.7812 - val_accuracy: 0.8978\n",
            "Epoch 10/30\n",
            "5500/5500 [==============================] - 12s 2ms/step - loss: 0.0624 - accuracy: 0.9756 - val_loss: 0.7769 - val_accuracy: 0.8974\n",
            "Epoch 11/30\n",
            "5500/5500 [==============================] - 11s 2ms/step - loss: 0.0617 - accuracy: 0.9757 - val_loss: 0.7776 - val_accuracy: 0.8970\n",
            "Epoch 12/30\n",
            "5500/5500 [==============================] - 12s 2ms/step - loss: 0.0605 - accuracy: 0.9763 - val_loss: 0.7975 - val_accuracy: 0.8974\n",
            "Epoch 13/30\n",
            "5500/5500 [==============================] - 11s 2ms/step - loss: 0.0596 - accuracy: 0.9765 - val_loss: 0.8087 - val_accuracy: 0.8974\n",
            "Epoch 14/30\n",
            "5500/5500 [==============================] - 12s 2ms/step - loss: 0.0592 - accuracy: 0.9770 - val_loss: 0.8314 - val_accuracy: 0.8964\n",
            "Epoch 15/30\n",
            "5500/5500 [==============================] - 12s 2ms/step - loss: 0.0583 - accuracy: 0.9773 - val_loss: 0.8219 - val_accuracy: 0.8968\n",
            "Epoch 16/30\n",
            "5500/5500 [==============================] - 12s 2ms/step - loss: 0.0574 - accuracy: 0.9776 - val_loss: 0.8451 - val_accuracy: 0.8968\n",
            "Epoch 17/30\n",
            "5500/5500 [==============================] - 12s 2ms/step - loss: 0.0565 - accuracy: 0.9777 - val_loss: 0.8486 - val_accuracy: 0.8970\n",
            "Epoch 18/30\n",
            "5500/5500 [==============================] - 12s 2ms/step - loss: 0.0563 - accuracy: 0.9781 - val_loss: 0.8545 - val_accuracy: 0.8970\n",
            "Epoch 19/30\n",
            "5500/5500 [==============================] - 13s 2ms/step - loss: 0.0552 - accuracy: 0.9785 - val_loss: 0.8448 - val_accuracy: 0.8968\n",
            "Epoch 20/30\n",
            "5500/5500 [==============================] - 12s 2ms/step - loss: 0.0542 - accuracy: 0.9785 - val_loss: 0.8806 - val_accuracy: 0.8960\n",
            "Epoch 21/30\n",
            "5500/5500 [==============================] - 12s 2ms/step - loss: 0.0538 - accuracy: 0.9787 - val_loss: 0.8826 - val_accuracy: 0.8952\n",
            "Epoch 22/30\n",
            "5500/5500 [==============================] - 12s 2ms/step - loss: 0.0532 - accuracy: 0.9793 - val_loss: 0.8913 - val_accuracy: 0.8964\n",
            "Epoch 23/30\n",
            "5500/5500 [==============================] - 11s 2ms/step - loss: 0.0524 - accuracy: 0.9794 - val_loss: 0.8944 - val_accuracy: 0.8926\n",
            "Epoch 24/30\n",
            "5500/5500 [==============================] - 12s 2ms/step - loss: 0.0519 - accuracy: 0.9798 - val_loss: 0.9230 - val_accuracy: 0.8966\n",
            "Epoch 25/30\n",
            "5500/5500 [==============================] - 12s 2ms/step - loss: 0.0510 - accuracy: 0.9802 - val_loss: 0.8905 - val_accuracy: 0.8962\n",
            "Epoch 26/30\n",
            "5500/5500 [==============================] - 12s 2ms/step - loss: 0.0504 - accuracy: 0.9805 - val_loss: 0.9276 - val_accuracy: 0.8948\n",
            "Epoch 27/30\n",
            "5500/5500 [==============================] - 12s 2ms/step - loss: 0.0501 - accuracy: 0.9803 - val_loss: 0.9192 - val_accuracy: 0.8962\n",
            "Epoch 28/30\n",
            "5500/5500 [==============================] - 12s 2ms/step - loss: 0.0493 - accuracy: 0.9812 - val_loss: 0.9310 - val_accuracy: 0.8964\n",
            "Epoch 29/30\n",
            "5500/5500 [==============================] - 12s 2ms/step - loss: 0.0487 - accuracy: 0.9811 - val_loss: 0.9389 - val_accuracy: 0.8944\n",
            "Epoch 30/30\n",
            "5500/5500 [==============================] - 12s 2ms/step - loss: 0.0481 - accuracy: 0.9814 - val_loss: 0.9379 - val_accuracy: 0.8990\n"
          ],
          "name": "stdout"
        }
      ]
    },
    {
      "cell_type": "code",
      "metadata": {
        "colab": {
          "base_uri": "https://localhost:8080/"
        },
        "id": "n6EdjPcUf7BJ",
        "outputId": "3b58402d-40d1-4246-9888-03bd902f3cfb"
      },
      "source": [
        "BS10 = model.evaluate(X_test, y_test)\n",
        "BS10"
      ],
      "execution_count": 54,
      "outputs": [
        {
          "output_type": "stream",
          "text": [
            "313/313 [==============================] - 1s 2ms/step - loss: 0.9583 - accuracy: 0.8972\n"
          ],
          "name": "stdout"
        },
        {
          "output_type": "execute_result",
          "data": {
            "text/plain": [
              "[0.9582796692848206, 0.8971999883651733]"
            ]
          },
          "metadata": {
            "tags": []
          },
          "execution_count": 54
        }
      ]
    },
    {
      "cell_type": "code",
      "metadata": {
        "colab": {
          "base_uri": "https://localhost:8080/",
          "height": 327
        },
        "id": "0OjK9lxVgVf_",
        "outputId": "9a7ac4b7-7504-4d25-e0b6-3e6643429d63"
      },
      "source": [
        "pd.DataFrame(h3.history).plot(figsize=(8, 5))\n",
        "plt.grid(True)\n",
        "plt.gca().set_ylim(0, 1)\n",
        "plt.show()"
      ],
      "execution_count": 55,
      "outputs": [
        {
          "output_type": "display_data",
          "data": {
            "image/png": "[encoded data removed]",
            "text/plain": [
              "<Figure size 576x360 with 1 Axes>"
            ]
          },
          "metadata": {
            "tags": [],
            "needs_background": "light"
          }
        }
      ]
    },
    {
      "cell_type": "markdown",
      "metadata": {
        "id": "443gtxObgztI"
      },
      "source": [
        "Learning curves for different epochs"
      ]
    },
    {
      "cell_type": "code",
      "metadata": {
        "colab": {
          "base_uri": "https://localhost:8080/"
        },
        "id": "X5_yzGofg6Hp",
        "outputId": "c4cb8cd0-a951-4821-b86b-5873e4b6a3ed"
      },
      "source": [
        "#number of epochs=1\n",
        "h6 = model.fit(X_train, y_train, batch_size=32, epochs=1,\n",
        "                    validation_data=(X_valid, y_valid))"
      ],
      "execution_count": 56,
      "outputs": [
        {
          "output_type": "stream",
          "text": [
            "1719/1719 [==============================] - 5s 3ms/step - loss: 0.0449 - accuracy: 0.9827 - val_loss: 0.9606 - val_accuracy: 0.8956\n"
          ],
          "name": "stdout"
        }
      ]
    },
    {
      "cell_type": "code",
      "metadata": {
        "colab": {
          "base_uri": "https://localhost:8080/"
        },
        "id": "bp7i4Qi-g_U9",
        "outputId": "82b3281f-7c5c-4882-b720-b75e535ca2ff"
      },
      "source": [
        "epochs1 = model.evaluate(X_test, y_test)"
      ],
      "execution_count": 57,
      "outputs": [
        {
          "output_type": "stream",
          "text": [
            "313/313 [==============================] - 1s 2ms/step - loss: 0.9772 - accuracy: 0.8974\n"
          ],
          "name": "stdout"
        }
      ]
    },
    {
      "cell_type": "code",
      "metadata": {
        "colab": {
          "base_uri": "https://localhost:8080/",
          "height": 327
        },
        "id": "oAfgJw7RhDGd",
        "outputId": "2c1ac0ff-c4d2-4405-9b11-beb64a8048b4"
      },
      "source": [
        "pd.DataFrame(h6.history).plot(figsize=(8, 5))\n",
        "plt.grid(True)\n",
        "plt.gca().set_ylim(0, 1)\n",
        "plt.show()"
      ],
      "execution_count": 58,
      "outputs": [
        {
          "output_type": "display_data",
          "data": {
            "image/png": "[encoded data removed]",
            "text/plain": [
              "<Figure size 576x360 with 1 Axes>"
            ]
          },
          "metadata": {
            "tags": [],
            "needs_background": "light"
          }
        }
      ]
    },
    {
      "cell_type": "code",
      "metadata": {
        "colab": {
          "base_uri": "https://localhost:8080/"
        },
        "id": "TEaFogikisbQ",
        "outputId": "0ce8a177-434e-4539-b8fd-c24d09f58588"
      },
      "source": [
        "#number of epochs=10\n",
        "h7 = model.fit(X_train, y_train, batch_size=32, epochs=10,\n",
        "                    validation_data=(X_valid, y_valid))"
      ],
      "execution_count": 59,
      "outputs": [
        {
          "output_type": "stream",
          "text": [
            "Epoch 1/10\n",
            "1719/1719 [==============================] - 4s 2ms/step - loss: 0.0443 - accuracy: 0.9834 - val_loss: 0.9618 - val_accuracy: 0.8968\n",
            "Epoch 2/10\n",
            "1719/1719 [==============================] - 4s 2ms/step - loss: 0.0439 - accuracy: 0.9832 - val_loss: 0.9692 - val_accuracy: 0.8964\n",
            "Epoch 3/10\n",
            "1719/1719 [==============================] - 4s 3ms/step - loss: 0.0436 - accuracy: 0.9835 - val_loss: 0.9794 - val_accuracy: 0.8958\n",
            "Epoch 4/10\n",
            "1719/1719 [==============================] - 4s 2ms/step - loss: 0.0434 - accuracy: 0.9835 - val_loss: 0.9767 - val_accuracy: 0.8956\n",
            "Epoch 5/10\n",
            "1719/1719 [==============================] - 4s 2ms/step - loss: 0.0433 - accuracy: 0.9834 - val_loss: 0.9806 - val_accuracy: 0.8956\n",
            "Epoch 6/10\n",
            "1719/1719 [==============================] - 4s 2ms/step - loss: 0.0431 - accuracy: 0.9837 - val_loss: 0.9800 - val_accuracy: 0.8952\n",
            "Epoch 7/10\n",
            "1719/1719 [==============================] - 4s 2ms/step - loss: 0.0428 - accuracy: 0.9839 - val_loss: 0.9794 - val_accuracy: 0.8952\n",
            "Epoch 8/10\n",
            "1719/1719 [==============================] - 4s 3ms/step - loss: 0.0427 - accuracy: 0.9838 - val_loss: 0.9963 - val_accuracy: 0.8944\n",
            "Epoch 9/10\n",
            "1719/1719 [==============================] - 4s 2ms/step - loss: 0.0424 - accuracy: 0.9840 - val_loss: 0.9948 - val_accuracy: 0.8954\n",
            "Epoch 10/10\n",
            "1719/1719 [==============================] - 4s 2ms/step - loss: 0.0423 - accuracy: 0.9840 - val_loss: 0.9929 - val_accuracy: 0.8952\n"
          ],
          "name": "stdout"
        }
      ]
    },
    {
      "cell_type": "code",
      "metadata": {
        "colab": {
          "base_uri": "https://localhost:8080/"
        },
        "id": "QNM-3rhoi07G",
        "outputId": "ac5c8b6a-4f65-4ba5-efac-c0bb626377e8"
      },
      "source": [
        "ep10 = model.evaluate(X_test, y_test)"
      ],
      "execution_count": 60,
      "outputs": [
        {
          "output_type": "stream",
          "text": [
            "313/313 [==============================] - 1s 2ms/step - loss: 1.0105 - accuracy: 0.8971\n"
          ],
          "name": "stdout"
        }
      ]
    },
    {
      "cell_type": "code",
      "metadata": {
        "colab": {
          "base_uri": "https://localhost:8080/",
          "height": 327
        },
        "id": "F_EBKNlJi8UH",
        "outputId": "69eb2169-0c76-4980-a43b-a95da86c8ee7"
      },
      "source": [
        "pd.DataFrame(h7.history).plot(figsize=(8, 5))\n",
        "plt.grid(True)\n",
        "plt.gca().set_ylim(0, 1)\n",
        "plt.show()"
      ],
      "execution_count": 61,
      "outputs": [
        {
          "output_type": "display_data",
          "data": {
            "image/png": "[encoded data removed]",
            "text/plain": [
              "<Figure size 576x360 with 1 Axes>"
            ]
          },
          "metadata": {
            "tags": [],
            "needs_background": "light"
          }
        }
      ]
    },
    {
      "cell_type": "code",
      "metadata": {
        "colab": {
          "base_uri": "https://localhost:8080/"
        },
        "id": "ac794u0yjCWW",
        "outputId": "0b743492-11ba-4002-bf01-0833a373f578"
      },
      "source": [
        "#number of epochs=40\n",
        "h8 = model.fit(X_train, y_train, batch_size=32, epochs=40,\n",
        "                    validation_data=(X_valid, y_valid))"
      ],
      "execution_count": 62,
      "outputs": [
        {
          "output_type": "stream",
          "text": [
            "Epoch 1/40\n",
            "1719/1719 [==============================] - 4s 3ms/step - loss: 0.0421 - accuracy: 0.9840 - val_loss: 0.9968 - val_accuracy: 0.8958\n",
            "Epoch 2/40\n",
            "1719/1719 [==============================] - 4s 3ms/step - loss: 0.0418 - accuracy: 0.9842 - val_loss: 1.0029 - val_accuracy: 0.8940\n",
            "Epoch 3/40\n",
            "1719/1719 [==============================] - 4s 2ms/step - loss: 0.0417 - accuracy: 0.9843 - val_loss: 1.0013 - val_accuracy: 0.8954\n",
            "Epoch 4/40\n",
            "1719/1719 [==============================] - 4s 2ms/step - loss: 0.0415 - accuracy: 0.9843 - val_loss: 1.0056 - val_accuracy: 0.8948\n",
            "Epoch 5/40\n",
            "1719/1719 [==============================] - 4s 3ms/step - loss: 0.0413 - accuracy: 0.9846 - val_loss: 1.0139 - val_accuracy: 0.8946\n",
            "Epoch 6/40\n",
            "1719/1719 [==============================] - 4s 3ms/step - loss: 0.0410 - accuracy: 0.9848 - val_loss: 1.0146 - val_accuracy: 0.8944\n",
            "Epoch 7/40\n",
            "1719/1719 [==============================] - 4s 2ms/step - loss: 0.0409 - accuracy: 0.9847 - val_loss: 1.0173 - val_accuracy: 0.8958\n",
            "Epoch 8/40\n",
            "1719/1719 [==============================] - 4s 2ms/step - loss: 0.0405 - accuracy: 0.9847 - val_loss: 1.0216 - val_accuracy: 0.8952\n",
            "Epoch 9/40\n",
            "1719/1719 [==============================] - 4s 2ms/step - loss: 0.0404 - accuracy: 0.9849 - val_loss: 1.0268 - val_accuracy: 0.8952\n",
            "Epoch 10/40\n",
            "1719/1719 [==============================] - 4s 2ms/step - loss: 0.0402 - accuracy: 0.9848 - val_loss: 1.0295 - val_accuracy: 0.8946\n",
            "Epoch 11/40\n",
            "1719/1719 [==============================] - 4s 2ms/step - loss: 0.0400 - accuracy: 0.9853 - val_loss: 1.0271 - val_accuracy: 0.8942\n",
            "Epoch 12/40\n",
            "1719/1719 [==============================] - 4s 2ms/step - loss: 0.0398 - accuracy: 0.9851 - val_loss: 1.0292 - val_accuracy: 0.8946\n",
            "Epoch 13/40\n",
            "1719/1719 [==============================] - 4s 2ms/step - loss: 0.0396 - accuracy: 0.9853 - val_loss: 1.0362 - val_accuracy: 0.8948\n",
            "Epoch 14/40\n",
            "1719/1719 [==============================] - 4s 2ms/step - loss: 0.0395 - accuracy: 0.9852 - val_loss: 1.0414 - val_accuracy: 0.8946\n",
            "Epoch 15/40\n",
            "1719/1719 [==============================] - 4s 3ms/step - loss: 0.0392 - accuracy: 0.9852 - val_loss: 1.0452 - val_accuracy: 0.8944\n",
            "Epoch 16/40\n",
            "1719/1719 [==============================] - 4s 3ms/step - loss: 0.0391 - accuracy: 0.9854 - val_loss: 1.0478 - val_accuracy: 0.8954\n",
            "Epoch 17/40\n",
            "1719/1719 [==============================] - 4s 3ms/step - loss: 0.0388 - accuracy: 0.9856 - val_loss: 1.0465 - val_accuracy: 0.8952\n",
            "Epoch 18/40\n",
            "1719/1719 [==============================] - 4s 2ms/step - loss: 0.0388 - accuracy: 0.9857 - val_loss: 1.0515 - val_accuracy: 0.8938\n",
            "Epoch 19/40\n",
            "1719/1719 [==============================] - 4s 2ms/step - loss: 0.0386 - accuracy: 0.9855 - val_loss: 1.0597 - val_accuracy: 0.8952\n",
            "Epoch 20/40\n",
            "1719/1719 [==============================] - 4s 3ms/step - loss: 0.0383 - accuracy: 0.9857 - val_loss: 1.0593 - val_accuracy: 0.8954\n",
            "Epoch 21/40\n",
            "1719/1719 [==============================] - 4s 3ms/step - loss: 0.0382 - accuracy: 0.9858 - val_loss: 1.0595 - val_accuracy: 0.8952\n",
            "Epoch 22/40\n",
            "1719/1719 [==============================] - 4s 2ms/step - loss: 0.0379 - accuracy: 0.9859 - val_loss: 1.0659 - val_accuracy: 0.8950\n",
            "Epoch 23/40\n",
            "1719/1719 [==============================] - 4s 2ms/step - loss: 0.0378 - accuracy: 0.9861 - val_loss: 1.0665 - val_accuracy: 0.8942\n",
            "Epoch 24/40\n",
            "1719/1719 [==============================] - 4s 3ms/step - loss: 0.0376 - accuracy: 0.9860 - val_loss: 1.0780 - val_accuracy: 0.8942\n",
            "Epoch 25/40\n",
            "1719/1719 [==============================] - 5s 3ms/step - loss: 0.0374 - accuracy: 0.9862 - val_loss: 1.0812 - val_accuracy: 0.8944\n",
            "Epoch 26/40\n",
            "1719/1719 [==============================] - 5s 3ms/step - loss: 0.0373 - accuracy: 0.9861 - val_loss: 1.0769 - val_accuracy: 0.8942\n",
            "Epoch 27/40\n",
            "1719/1719 [==============================] - 5s 3ms/step - loss: 0.0370 - accuracy: 0.9863 - val_loss: 1.0782 - val_accuracy: 0.8948\n",
            "Epoch 28/40\n",
            "1719/1719 [==============================] - 4s 3ms/step - loss: 0.0370 - accuracy: 0.9863 - val_loss: 1.0942 - val_accuracy: 0.8956\n",
            "Epoch 29/40\n",
            "1719/1719 [==============================] - 4s 3ms/step - loss: 0.0368 - accuracy: 0.9862 - val_loss: 1.0855 - val_accuracy: 0.8940\n",
            "Epoch 30/40\n",
            "1719/1719 [==============================] - 4s 2ms/step - loss: 0.0367 - accuracy: 0.9863 - val_loss: 1.0939 - val_accuracy: 0.8948\n",
            "Epoch 31/40\n",
            "1719/1719 [==============================] - 4s 2ms/step - loss: 0.0363 - accuracy: 0.9867 - val_loss: 1.0910 - val_accuracy: 0.8948\n",
            "Epoch 32/40\n",
            "1719/1719 [==============================] - 4s 3ms/step - loss: 0.0362 - accuracy: 0.9864 - val_loss: 1.1072 - val_accuracy: 0.8946\n",
            "Epoch 33/40\n",
            "1719/1719 [==============================] - 4s 2ms/step - loss: 0.0361 - accuracy: 0.9866 - val_loss: 1.0947 - val_accuracy: 0.8952\n",
            "Epoch 34/40\n",
            "1719/1719 [==============================] - 4s 2ms/step - loss: 0.0359 - accuracy: 0.9869 - val_loss: 1.1026 - val_accuracy: 0.8956\n",
            "Epoch 35/40\n",
            "1719/1719 [==============================] - 4s 2ms/step - loss: 0.0358 - accuracy: 0.9870 - val_loss: 1.1050 - val_accuracy: 0.8952\n",
            "Epoch 36/40\n",
            "1719/1719 [==============================] - 4s 2ms/step - loss: 0.0356 - accuracy: 0.9868 - val_loss: 1.1127 - val_accuracy: 0.8946\n",
            "Epoch 37/40\n",
            "1719/1719 [==============================] - 4s 3ms/step - loss: 0.0354 - accuracy: 0.9866 - val_loss: 1.1117 - val_accuracy: 0.8940\n",
            "Epoch 38/40\n",
            "1719/1719 [==============================] - 4s 3ms/step - loss: 0.0352 - accuracy: 0.9871 - val_loss: 1.1229 - val_accuracy: 0.8944\n",
            "Epoch 39/40\n",
            "1719/1719 [==============================] - 4s 3ms/step - loss: 0.0351 - accuracy: 0.9870 - val_loss: 1.1265 - val_accuracy: 0.8954\n",
            "Epoch 40/40\n",
            "1719/1719 [==============================] - 4s 3ms/step - loss: 0.0349 - accuracy: 0.9873 - val_loss: 1.1266 - val_accuracy: 0.8952\n"
          ],
          "name": "stdout"
        }
      ]
    },
    {
      "cell_type": "code",
      "metadata": {
        "colab": {
          "base_uri": "https://localhost:8080/"
        },
        "id": "rMAtXitWjerc",
        "outputId": "376a3aaf-aa36-4415-a985-ca9225302b98"
      },
      "source": [
        "ep40 = model.evaluate(X_test, y_test)"
      ],
      "execution_count": 63,
      "outputs": [
        {
          "output_type": "stream",
          "text": [
            "313/313 [==============================] - 1s 2ms/step - loss: 1.1523 - accuracy: 0.8960\n"
          ],
          "name": "stdout"
        }
      ]
    },
    {
      "cell_type": "code",
      "metadata": {
        "colab": {
          "base_uri": "https://localhost:8080/",
          "height": 327
        },
        "id": "XwtYPBxYjj7O",
        "outputId": "692d9143-75b4-4d61-e509-63a83f52f6b7"
      },
      "source": [
        "pd.DataFrame(h8.history).plot(figsize=(8, 5))\n",
        "plt.grid(True)\n",
        "plt.gca().set_ylim(0, 1)\n",
        "plt.show()"
      ],
      "execution_count": 64,
      "outputs": [
        {
          "output_type": "display_data",
          "data": {
            "image/png": "[encoded data removed]",
            "text/plain": [
              "<Figure size 576x360 with 1 Axes>"
            ]
          },
          "metadata": {
            "tags": [],
            "needs_background": "light"
          }
        }
      ]
    },
    {
      "cell_type": "markdown",
      "metadata": {
        "id": "-p53tJV5jtRo"
      },
      "source": [
        "Adding more layers"
      ]
    },
    {
      "cell_type": "code",
      "metadata": {
        "id": "Fy9kWJdCjrnQ"
      },
      "source": [
        "model = keras.models.Sequential()\n",
        "model.add(keras.layers.Flatten(input_shape=[28, 28]))\n",
        "model.add(keras.layers.Dense(400, activation=\"relu\"))\n",
        "model.add(keras.layers.Dense(250, activation=\"relu\"))\n",
        "model.add(keras.layers.Dense(180, activation=\"relu\"))\n",
        "model.add(keras.layers.Dense(70, activation=\"relu\"))\n",
        "model.add(keras.layers.Dense(30, activation=\"relu\"))\n",
        "model.add(keras.layers.Dense(10, activation=\"softmax\"))"
      ],
      "execution_count": 65,
      "outputs": []
    },
    {
      "cell_type": "code",
      "metadata": {
        "colab": {
          "base_uri": "https://localhost:8080/"
        },
        "id": "Ii7lql8okBSi",
        "outputId": "e4715075-b2c8-419d-bd1f-d67af93a5612"
      },
      "source": [
        "model.layers"
      ],
      "execution_count": 66,
      "outputs": [
        {
          "output_type": "execute_result",
          "data": {
            "text/plain": [
              "[<tensorflow.python.keras.layers.core.Flatten at 0x7fc99e054c88>,\n",
              " <tensorflow.python.keras.layers.core.Dense at 0x7fc99e054470>,\n",
              " <tensorflow.python.keras.layers.core.Dense at 0x7fca45b334e0>,\n",
              " <tensorflow.python.keras.layers.core.Dense at 0x7fc98c6c7be0>,\n",
              " <tensorflow.python.keras.layers.core.Dense at 0x7fc9fc059320>,\n",
              " <tensorflow.python.keras.layers.core.Dense at 0x7fc9fbfdc048>,\n",
              " <tensorflow.python.keras.layers.core.Dense at 0x7fc9fcaabeb8>]"
            ]
          },
          "metadata": {
            "tags": []
          },
          "execution_count": 66
        }
      ]
    },
    {
      "cell_type": "code",
      "metadata": {
        "id": "PA6j5x5JkEwD"
      },
      "source": [
        "model.compile(loss=\"sparse_categorical_crossentropy\",\n",
        "              optimizer=\"sgd\",\n",
        "              metrics=[\"accuracy\"])"
      ],
      "execution_count": 67,
      "outputs": []
    },
    {
      "cell_type": "code",
      "metadata": {
        "colab": {
          "base_uri": "https://localhost:8080/"
        },
        "id": "FkCURGJVkQ4g",
        "outputId": "392b1dc5-d748-48f1-c89b-c7230a982cbc"
      },
      "source": [
        "h9 = model.fit(X_train, y_train, batch_size=1000, epochs=40,\n",
        "                    validation_data=(X_valid, y_valid))"
      ],
      "execution_count": 68,
      "outputs": [
        {
          "output_type": "stream",
          "text": [
            "Epoch 1/40\n",
            "55/55 [==============================] - 0s 7ms/step - loss: 2.1641 - accuracy: 0.1961 - val_loss: 2.0100 - val_accuracy: 0.2528\n",
            "Epoch 2/40\n",
            "55/55 [==============================] - 0s 5ms/step - loss: 1.8471 - accuracy: 0.3959 - val_loss: 1.6443 - val_accuracy: 0.5688\n",
            "Epoch 3/40\n",
            "55/55 [==============================] - 0s 5ms/step - loss: 1.4431 - accuracy: 0.6015 - val_loss: 1.2342 - val_accuracy: 0.6254\n",
            "Epoch 4/40\n",
            "55/55 [==============================] - 0s 5ms/step - loss: 1.1243 - accuracy: 0.6320 - val_loss: 1.0039 - val_accuracy: 0.6522\n",
            "Epoch 5/40\n",
            "55/55 [==============================] - 0s 4ms/step - loss: 0.9508 - accuracy: 0.6653 - val_loss: 0.8816 - val_accuracy: 0.6918\n",
            "Epoch 6/40\n",
            "55/55 [==============================] - 0s 4ms/step - loss: 0.8554 - accuracy: 0.7023 - val_loss: 0.8091 - val_accuracy: 0.7248\n",
            "Epoch 7/40\n",
            "55/55 [==============================] - 0s 4ms/step - loss: 0.7944 - accuracy: 0.7282 - val_loss: 0.7601 - val_accuracy: 0.7400\n",
            "Epoch 8/40\n",
            "55/55 [==============================] - 0s 4ms/step - loss: 0.7506 - accuracy: 0.7453 - val_loss: 0.7206 - val_accuracy: 0.7572\n",
            "Epoch 9/40\n",
            "55/55 [==============================] - 0s 4ms/step - loss: 0.7153 - accuracy: 0.7577 - val_loss: 0.6899 - val_accuracy: 0.7732\n",
            "Epoch 10/40\n",
            "55/55 [==============================] - 0s 4ms/step - loss: 0.6857 - accuracy: 0.7680 - val_loss: 0.6674 - val_accuracy: 0.7810\n",
            "Epoch 11/40\n",
            "55/55 [==============================] - 0s 4ms/step - loss: 0.6622 - accuracy: 0.7754 - val_loss: 0.6418 - val_accuracy: 0.7920\n",
            "Epoch 12/40\n",
            "55/55 [==============================] - 0s 5ms/step - loss: 0.6411 - accuracy: 0.7813 - val_loss: 0.6281 - val_accuracy: 0.7882\n",
            "Epoch 13/40\n",
            "55/55 [==============================] - 0s 4ms/step - loss: 0.6243 - accuracy: 0.7869 - val_loss: 0.6228 - val_accuracy: 0.7914\n",
            "Epoch 14/40\n",
            "55/55 [==============================] - 0s 4ms/step - loss: 0.6104 - accuracy: 0.7889 - val_loss: 0.5923 - val_accuracy: 0.8046\n",
            "Epoch 15/40\n",
            "55/55 [==============================] - 0s 4ms/step - loss: 0.5988 - accuracy: 0.7940 - val_loss: 0.5876 - val_accuracy: 0.7944\n",
            "Epoch 16/40\n",
            "55/55 [==============================] - 0s 4ms/step - loss: 0.5848 - accuracy: 0.7982 - val_loss: 0.5630 - val_accuracy: 0.8124\n",
            "Epoch 17/40\n",
            "55/55 [==============================] - 0s 4ms/step - loss: 0.5708 - accuracy: 0.8024 - val_loss: 0.5579 - val_accuracy: 0.8106\n",
            "Epoch 18/40\n",
            "55/55 [==============================] - 0s 4ms/step - loss: 0.5739 - accuracy: 0.7996 - val_loss: 0.6176 - val_accuracy: 0.7900\n",
            "Epoch 19/40\n",
            "55/55 [==============================] - 0s 4ms/step - loss: 0.5514 - accuracy: 0.8097 - val_loss: 0.5307 - val_accuracy: 0.8210\n",
            "Epoch 20/40\n",
            "55/55 [==============================] - 0s 4ms/step - loss: 0.5413 - accuracy: 0.8131 - val_loss: 0.5191 - val_accuracy: 0.8260\n",
            "Epoch 21/40\n",
            "55/55 [==============================] - 0s 4ms/step - loss: 0.5386 - accuracy: 0.8122 - val_loss: 0.5203 - val_accuracy: 0.8212\n",
            "Epoch 22/40\n",
            "55/55 [==============================] - 0s 4ms/step - loss: 0.5306 - accuracy: 0.8159 - val_loss: 0.5112 - val_accuracy: 0.8290\n",
            "Epoch 23/40\n",
            "55/55 [==============================] - 0s 4ms/step - loss: 0.5192 - accuracy: 0.8191 - val_loss: 0.5111 - val_accuracy: 0.8284\n",
            "Epoch 24/40\n",
            "55/55 [==============================] - 0s 4ms/step - loss: 0.5119 - accuracy: 0.8219 - val_loss: 0.5184 - val_accuracy: 0.8238\n",
            "Epoch 25/40\n",
            "55/55 [==============================] - 0s 4ms/step - loss: 0.5052 - accuracy: 0.8240 - val_loss: 0.4947 - val_accuracy: 0.8340\n",
            "Epoch 26/40\n",
            "55/55 [==============================] - 0s 4ms/step - loss: 0.5065 - accuracy: 0.8230 - val_loss: 0.4994 - val_accuracy: 0.8296\n",
            "Epoch 27/40\n",
            "55/55 [==============================] - 0s 4ms/step - loss: 0.4978 - accuracy: 0.8273 - val_loss: 0.4904 - val_accuracy: 0.8330\n",
            "Epoch 28/40\n",
            "55/55 [==============================] - 0s 4ms/step - loss: 0.4967 - accuracy: 0.8255 - val_loss: 0.4829 - val_accuracy: 0.8376\n",
            "Epoch 29/40\n",
            "55/55 [==============================] - 0s 4ms/step - loss: 0.4904 - accuracy: 0.8289 - val_loss: 0.4796 - val_accuracy: 0.8350\n",
            "Epoch 30/40\n",
            "55/55 [==============================] - 0s 4ms/step - loss: 0.4816 - accuracy: 0.8329 - val_loss: 0.4848 - val_accuracy: 0.8326\n",
            "Epoch 31/40\n",
            "55/55 [==============================] - 0s 4ms/step - loss: 0.4843 - accuracy: 0.8301 - val_loss: 0.4992 - val_accuracy: 0.8328\n",
            "Epoch 32/40\n",
            "55/55 [==============================] - 0s 4ms/step - loss: 0.4811 - accuracy: 0.8303 - val_loss: 0.4763 - val_accuracy: 0.8420\n",
            "Epoch 33/40\n",
            "55/55 [==============================] - 0s 4ms/step - loss: 0.4710 - accuracy: 0.8356 - val_loss: 0.4621 - val_accuracy: 0.8444\n",
            "Epoch 34/40\n",
            "55/55 [==============================] - 0s 4ms/step - loss: 0.4652 - accuracy: 0.8371 - val_loss: 0.4609 - val_accuracy: 0.8456\n",
            "Epoch 35/40\n",
            "55/55 [==============================] - 0s 4ms/step - loss: 0.4665 - accuracy: 0.8351 - val_loss: 0.4511 - val_accuracy: 0.8496\n",
            "Epoch 36/40\n",
            "55/55 [==============================] - 0s 4ms/step - loss: 0.4592 - accuracy: 0.8393 - val_loss: 0.4496 - val_accuracy: 0.8498\n",
            "Epoch 37/40\n",
            "55/55 [==============================] - 0s 4ms/step - loss: 0.4515 - accuracy: 0.8409 - val_loss: 0.4435 - val_accuracy: 0.8516\n",
            "Epoch 38/40\n",
            "55/55 [==============================] - 0s 4ms/step - loss: 0.4696 - accuracy: 0.8350 - val_loss: 0.4452 - val_accuracy: 0.8506\n",
            "Epoch 39/40\n",
            "55/55 [==============================] - 0s 4ms/step - loss: 0.4525 - accuracy: 0.8418 - val_loss: 0.4427 - val_accuracy: 0.8510\n",
            "Epoch 40/40\n",
            "55/55 [==============================] - 0s 4ms/step - loss: 0.4456 - accuracy: 0.8439 - val_loss: 0.4394 - val_accuracy: 0.8510\n"
          ],
          "name": "stdout"
        }
      ]
    },
    {
      "cell_type": "code",
      "metadata": {
        "colab": {
          "base_uri": "https://localhost:8080/"
        },
        "id": "gmP5OksMkYPa",
        "outputId": "a8f34982-efbe-4e02-b0c6-cb3fe61a92d6"
      },
      "source": [
        "me = model.evaluate(X_test, y_test)"
      ],
      "execution_count": 69,
      "outputs": [
        {
          "output_type": "stream",
          "text": [
            "313/313 [==============================] - 1s 2ms/step - loss: 0.4769 - accuracy: 0.8359\n"
          ],
          "name": "stdout"
        }
      ]
    },
    {
      "cell_type": "code",
      "metadata": {
        "colab": {
          "base_uri": "https://localhost:8080/",
          "height": 327
        },
        "id": "Sr7ZLoBmkewu",
        "outputId": "26092724-1632-4298-ca30-88d20e597fdd"
      },
      "source": [
        "pd.DataFrame(h9.history).plot(figsize=(8, 5))\n",
        "plt.grid(True)\n",
        "plt.gca().set_ylim(0, 1)\n",
        "plt.show()"
      ],
      "execution_count": 70,
      "outputs": [
        {
          "output_type": "display_data",
          "data": {
            "image/png": "[encoded data removed]",
            "text/plain": [
              "<Figure size 576x360 with 1 Axes>"
            ]
          },
          "metadata": {
            "tags": [],
            "needs_background": "light"
          }
        }
      ]
    }
  ]
}